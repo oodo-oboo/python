{
 "cells": [
  {
   "cell_type": "code",
   "execution_count": null,
   "metadata": {},
   "outputs": [],
   "source": [
    "- 배운 내용\n",
    "- 파이썬, Numpy , pandas(high level api)\n",
    "- 머신러닝 : \n",
    "    - 교사 학습 (성능/Y)\n",
    "    - 비교사 학습 (항상 가능, 성능낮음)\n",
    "    - 강화 학습(액션/보상) - 어렵고 자원 필요, 준교사 학습/약교사 학습\n",
    "- 교사 학습 : KNN : K개 이웃 찾기로 분류/회귀\n",
    "    - Linear Regression 선형 회귀, 즉 : 데이터를 Y = ax + b  등으로 모델링\n",
    "    - > RIdge, Lasso : 파라미터가 커지지 않도록 제약 ( regulation )\n",
    "    - Decision Tree : 결정 트리 - 시각적 , 설명적 / 성능 떨어지고 과적합\n",
    "    - > ensemble 기법으로 단점 해결\n",
    "    - Random Forest : 서로 다른 Tree 여럿 (예 100개)\n",
    "    - > 다른 데이터를 나무에 주입 : 부트스트랩, 병렬화 가능\n",
    "    - Gradient Boosting Model \n",
    "    - > 순차적으로 Tree를 fit, 현재의 loss 를 줄이는 다음 tree\n",
    "    - SVM : Support Vector Machine , 일부 벡터만 가지고 분류, 예측\n",
    "    - Neural Network 신경망 : MLP : Multil Layer Perceptron\n",
    "    - 히든 레이어 등장 Y = ax + b > Y = dd*(cc*(aaX + bb) + e + d*(c*(ax+ b)  + c ) + e\n",
    "\n",
    "- 비교사 학습 : 차원 축소와 클러스터링\n",
    "    -  PCA  주 Principle 성분 Component 분석 Analysis\n",
    "        - 주석분-분산이 가장 큰 데이터\n",
    "    - t -SNE : 인접한 데이터들을 가장 잘 설명하는 새로운 표현 방법을 찾는다\n",
    "        - 글자 이미지들처럼 선들이 이어져 있을때 효과적\n",
    "    - K -means : K개로 분류\n",
    "        - 군집 알고리즘 : 가까운 샘플들끼리 그룹화해 나갑니다. k개 그룹이 될때까지\n",
    "    - DBSCAN : 거리를 정해주면 그 거리안의 샘플들끼리 그룹화해 나갑니다.\n",
    "\n",
    "- 성능 지표 , Accuracy  , precscision , Recall, ROC 커브, F- score, confusion matrix 등 성능 좋은 모델 찾는법, 텍스트 데이터 다루기"
   ]
  },
  {
   "cell_type": "code",
   "execution_count": null,
   "metadata": {},
   "outputs": [],
   "source": [
    "import pandas as pd\n",
    "import numpy as np\n",
    "import matplotlib.pyplot as plt\n",
    "\n",
    "df_train = pd.read_csv('adult.data', header=None)\n",
    "df_train.shape\n",
    "\n",
    "df.head(1)\n",
    "\n",
    "X_norm = (X - np.min(X, axis=0))/(np.max(X, axis=0) - np.min(X, axis=0)) #정규화 [0, 1]\n",
    "\n",
    "df = df.replace(' >50K.', ' >50K', regex=True)\n",
    "\n",
    "df_hot = pd.get_dummies(df)\n",
    "\n",
    "df.iloc[:, -1].unique()\n",
    "\n",
    "#결정 트리\n",
    "from sklearn.tree import DecisionTreeClassifier\n",
    "model = DecisionTreeClassifier(max_depth=5).fit(X_train, y_train)\n",
    "model.score(X_train, y_train), model.score(X_test, y_test)\n",
    "\n",
    "from sklearn.ensemble import GradientBoostingClassifier, AdaBoostClassifier\n",
    "model = GradientBoostingClassifier().fit(X_train, y_train)\n",
    "model.score(X_train, y_train), model.score(X_test, y_test)\n",
    "\n",
    "#랜덤 포레스트\n",
    "from sklearn.tree import DecisionTreeClassifier\n",
    "from sklearn.ensemble import RandomForestClassifier\n",
    "from sklearn.model_selection import train_test_split\n",
    "\n",
    "X_train, X_test, y_train, y_test = train_test_split( cancer.data, cancer.target, random_state=0)\n",
    "    \n",
    "dt = DecisionTreeClassifier().fit(X_train, y_train)\n",
    "rt = RandomForestClassifier(n_estimators=100).fit(X_test, y_test)\n",
    "\n",
    "model = RandomForestClassifier(n_estimators=100,max_depth=10).fit(X_train, y_train)\n",
    "model.score(X_train, y_train), model.score(X_test, y_test)\n",
    "\n",
    "#신경망\n",
    "from sklearn.neural_network import MLPClassifier\n",
    "model = MLPClassifier(hidden_layer_sizes=(50,50)).fit(X_train, y_train)\n",
    "model.score(X_train, y_train), model.score(X_test, y_test)"
   ]
  },
  {
   "cell_type": "code",
   "execution_count": null,
   "metadata": {},
   "outputs": [],
   "source": [
    "In [1]:\n",
    "# 기말대비\n",
    "import numpy as np\n",
    "import pandas as pd\n",
    "import matplotlib.pyplot as plt\n",
    "import mglearn\n",
    "\n",
    "from sklearn.model_selection import train_test_split \n",
    "X_train, X_test, y_train, y_test = train_test_split(cancer.data, cancer.target, random_state=0)\n",
    "\n",
    "#최근접 이웃(분류)\n",
    "from sklearn.neighbors import KNeighborsClassifier\n",
    "\n",
    "knn = KNeighborsClassifier(n_neighbors=5)\n",
    "knn.fit(x_train, y_train)\n",
    "\n",
    "print('  학습셋', knn.score(x_train, y_train))\n",
    "print('테스트셋', knn.score(x_test, y_test))\n",
    "\n",
    "# 에를 들어서 : \n",
    "#new = np.array([[4,4,4,4]])\n",
    "#prediction  = knn.predict(new)\n",
    "\n",
    "prediction  = knn.predict(x_test)\n",
    "prediction, iris_dataset['target_names'][prediction]\n",
    "\n",
    "\n",
    "# 최근접 이웃 (회귀)\n",
    "from sklearn.neighbors import KNeighborsRegression\n",
    "\n",
    "reg = KNeighborsClassifier(n_neighbors=5)\n",
    "reg.fit(x_train, y_train)\n",
    "\n",
    "reg.predict(x_test)\n",
    "reg.score(x_test, y_test))\n",
    "\n",
    "\n",
    "\n",
    "#선형회귀\n",
    "from sklearn.linear_model import LinearRegression, LogisticRegression ,Ridge #  LinearRegression 예측, LogisticRegression 분류\n",
    "\n",
    "lr = LinearRegression()\n",
    "lr.fit(X= 몸무게,  y = 키)\n",
    "\n",
    "몸무게_test, lr.predict(몸무게_test)\n",
    "\n",
    "lr.score(몸무게, 키)\n",
    "\n",
    "\n",
    "\n",
    "# 결정트리\n",
    "from sklearn.tree import DecisionTreeClassifier\n",
    "\n",
    "\n",
    "X = data.drop(columns= 'Survived')\n",
    "y = data['Survived']\n",
    "\n",
    "model = DecisionTreeClassifier(max_depth=4).fit(X,y)\n",
    "\n",
    "model.score(X, y)\n",
    "\n",
    "export_graphviz(model, out_file = 'titanic.dot', class_names= ['Die', 'Survive'] \n",
    "                , feature_names= X.columns, impurity = False, filled=True)\n",
    "\n",
    "with open('titanic.dot') as f:\n",
    "    dot_graph = f.read()\n",
    "g = graphviz.Source(dot_graph)\n",
    "display(g)\n",
    "\n",
    "\n",
    "\n",
    "\n",
    "\n",
    "\n",
    "\n",
    "\n",
    "from sklearn.ensemble import RandomForestClassifier, GradientBoostingClassifier\n",
    "from sklearn.svm import SVC, SVR #분류/예측\n",
    "\n",
    "\n",
    "# 비교사 학습\n",
    "from sklearn.manifold import TSNE\n",
    "from sklearn.decomposition import PCA\n",
    "from sklearn.cluster import AgglomerativeClustering, KMeans, DBSCAN\n",
    "\n",
    "\n",
    "# K Means\n",
    "from sklearn.cluster import KMeans\n",
    "km = KMeans(n_clusters=2).fit(x) # x를 3개로 그룹화(cluster)\n",
    "km.predict(x)\n",
    "\n",
    "x_pca = PCA(n_components=2).fit(loans_hot).transform(loans_hot) # 차원 축소\n",
    "km = KMeans(n_clusters=2).fit(x_pca) # 2개로 그룹화\n",
    "group = km.predict(x_pca)\n",
    "\n",
    "l = mglearn.discrete_scatter(x_pca[:,0], x_pca[:,1], group) # 예측\n",
    "l = mglearn.discrete_scatter(x_pca[:,0], x_pca[:,1], loans_hot.iloc[:,0]) # 실제로 돈 안갚는 사람\n",
    "\n",
    "\n",
    "\n",
    "# 병합 군집\n",
    "from sklearn.cluster import AgglomerativeClustering\n",
    "model = AgglomerativeClustering(n_clusters=5).fit(x)\n",
    "p = model.fit_predict(x) # predict\n",
    "mglearn.discrete_scatter(x[:,0], x[:,1], p)\n",
    "\n",
    "\n",
    "# DBSCAN\n",
    "from sklearn.cluster import DBSCAN\n",
    "p = DBSCAN(eps=1.5, min_samples=5).fit_predict(x) # k개를 정해주지 않습니다.\n",
    "l = mglearn.discrete_scatter(x[:,0], x[:,1], p)\n",
    "\n",
    "\n",
    "\n",
    "# 원핫 인코딩\n",
    "pd.get_dummies(df)\n",
    "\n",
    "\n",
    "from sklearn.model_selection import cross_val_score, cross_validate, GridSearchCV\n",
    "from sklearn.metrics import classification_report, confusion_matrix \n",
    "\n",
    "\n",
    "from sklearn.tree import export_graphviz\n",
    "import graphviz\n",
    "import os\n",
    "os.environ['PATH'] += os.pathsep + 'C:\\\\Program Files (x86)\\\\Graphviz2.38\\\\bin\\\\"
   ]
  },
  {
   "cell_type": "markdown",
   "metadata": {},
   "source": [
    "1. stock market prediction >regression\n",
    "input : 한국 COSPI+ 미국 DZIA 검색\n",
    "output : COSPI 미래의 1~1개월간의 종가 예측"
   ]
  },
  {
   "cell_type": "code",
   "execution_count": null,
   "metadata": {},
   "outputs": [],
   "source": [
    "import numpy as np\n",
    "import pandas as pd\n",
    "import matplotlib.pyplot as plt\n",
    "import mglearn"
   ]
  },
  {
   "cell_type": "code",
   "execution_count": 97,
   "metadata": {},
   "outputs": [
    {
     "data": {
      "text/plain": [
       "4"
      ]
     },
     "execution_count": 97,
     "metadata": {},
     "output_type": "execute_result"
    }
   ],
   "source": [
    "url  = 'https://finance.daum.net/domestic/kospi200'\n",
    "url = '코스피 _ 다음 금융.html' # 웹페이지를 다른 이름으로 저장\n",
    "tables = pd.read_html(url, index_col = 0)\n",
    "len(tables)"
   ]
  },
  {
   "cell_type": "code",
   "execution_count": 86,
   "metadata": {},
   "outputs": [
    {
     "data": {
      "text/plain": [
       "2"
      ]
     },
     "execution_count": 86,
     "metadata": {},
     "output_type": "execute_result"
    }
   ],
   "source": [
    "usa_url = '해외 시세 _ 다음 금융.html'\n",
    "usa_tables =  pd.read_html(usa_url, index_col = 0)\n",
    "len(usa_tables)"
   ]
  },
  {
   "cell_type": "code",
   "execution_count": 98,
   "metadata": {},
   "outputs": [],
   "source": [
    "df = tables[1]\n",
    "usa_df = usa_tables[0]"
   ]
  },
  {
   "cell_type": "code",
   "execution_count": 99,
   "metadata": {},
   "outputs": [
    {
     "data": {
      "text/plain": [
       "(10, 8)"
      ]
     },
     "execution_count": 99,
     "metadata": {},
     "output_type": "execute_result"
    }
   ],
   "source": [
    "df.shape"
   ]
  },
  {
   "cell_type": "code",
   "execution_count": 124,
   "metadata": {
    "scrolled": true
   },
   "outputs": [],
   "source": [
    "df.index = '20' + df.index # KOSPI 인덱스 수정"
   ]
  },
  {
   "cell_type": "code",
   "execution_count": 125,
   "metadata": {},
   "outputs": [
    {
     "data": {
      "text/html": [
       "<div>\n",
       "<style scoped>\n",
       "    .dataframe tbody tr th:only-of-type {\n",
       "        vertical-align: middle;\n",
       "    }\n",
       "\n",
       "    .dataframe tbody tr th {\n",
       "        vertical-align: top;\n",
       "    }\n",
       "\n",
       "    .dataframe thead th {\n",
       "        text-align: right;\n",
       "    }\n",
       "</style>\n",
       "<table border=\"1\" class=\"dataframe\">\n",
       "  <thead>\n",
       "    <tr style=\"text-align: right;\">\n",
       "      <th></th>\n",
       "      <th>종가</th>\n",
       "      <th>전일비</th>\n",
       "      <th>등락률</th>\n",
       "      <th>거래량</th>\n",
       "      <th>거래대금</th>\n",
       "      <th>개인(억)</th>\n",
       "      <th>외국인(억)</th>\n",
       "      <th>기관(억)</th>\n",
       "    </tr>\n",
       "  </thead>\n",
       "  <tbody>\n",
       "    <tr>\n",
       "      <th>2019.07.17</th>\n",
       "      <td>2072.92</td>\n",
       "      <td>-18.95</td>\n",
       "      <td>-0.91</td>\n",
       "      <td>752119</td>\n",
       "      <td>4549215</td>\n",
       "      <td>606</td>\n",
       "      <td>334</td>\n",
       "      <td>-863</td>\n",
       "    </tr>\n",
       "    <tr>\n",
       "      <th>2019.07.16</th>\n",
       "      <td>2091.87</td>\n",
       "      <td>9.39</td>\n",
       "      <td>+0.45</td>\n",
       "      <td>682802</td>\n",
       "      <td>5284192</td>\n",
       "      <td>-2157</td>\n",
       "      <td>2512</td>\n",
       "      <td>-315</td>\n",
       "    </tr>\n",
       "    <tr>\n",
       "      <th>2019.07.15</th>\n",
       "      <td>2082.48</td>\n",
       "      <td>-4.18</td>\n",
       "      <td>-0.20</td>\n",
       "      <td>463519</td>\n",
       "      <td>3740179</td>\n",
       "      <td>-494</td>\n",
       "      <td>143</td>\n",
       "      <td>253</td>\n",
       "    </tr>\n",
       "    <tr>\n",
       "      <th>2019.07.12</th>\n",
       "      <td>2086.66</td>\n",
       "      <td>6.08</td>\n",
       "      <td>+0.29</td>\n",
       "      <td>403935</td>\n",
       "      <td>3775268</td>\n",
       "      <td>168</td>\n",
       "      <td>-59</td>\n",
       "      <td>-64</td>\n",
       "    </tr>\n",
       "    <tr>\n",
       "      <th>2019.07.11</th>\n",
       "      <td>2080.58</td>\n",
       "      <td>21.80</td>\n",
       "      <td>+1.06</td>\n",
       "      <td>376675</td>\n",
       "      <td>5057466</td>\n",
       "      <td>-1993</td>\n",
       "      <td>3649</td>\n",
       "      <td>-1782</td>\n",
       "    </tr>\n",
       "    <tr>\n",
       "      <th>2019.07.10</th>\n",
       "      <td>2058.78</td>\n",
       "      <td>6.75</td>\n",
       "      <td>+0.33</td>\n",
       "      <td>355677</td>\n",
       "      <td>3938556</td>\n",
       "      <td>-13</td>\n",
       "      <td>2033</td>\n",
       "      <td>-1882</td>\n",
       "    </tr>\n",
       "    <tr>\n",
       "      <th>2019.07.09</th>\n",
       "      <td>2052.03</td>\n",
       "      <td>-12.14</td>\n",
       "      <td>-0.59</td>\n",
       "      <td>440122</td>\n",
       "      <td>4439841</td>\n",
       "      <td>826</td>\n",
       "      <td>240</td>\n",
       "      <td>-1149</td>\n",
       "    </tr>\n",
       "    <tr>\n",
       "      <th>2019.07.08</th>\n",
       "      <td>2064.17</td>\n",
       "      <td>-46.42</td>\n",
       "      <td>-2.20</td>\n",
       "      <td>515950</td>\n",
       "      <td>4349730</td>\n",
       "      <td>499</td>\n",
       "      <td>18</td>\n",
       "      <td>-498</td>\n",
       "    </tr>\n",
       "    <tr>\n",
       "      <th>2019.07.05</th>\n",
       "      <td>2110.59</td>\n",
       "      <td>1.86</td>\n",
       "      <td>+0.09</td>\n",
       "      <td>459391</td>\n",
       "      <td>4025814</td>\n",
       "      <td>-1050</td>\n",
       "      <td>-250</td>\n",
       "      <td>1263</td>\n",
       "    </tr>\n",
       "    <tr>\n",
       "      <th>2019.07.04</th>\n",
       "      <td>2108.73</td>\n",
       "      <td>12.71</td>\n",
       "      <td>+0.61</td>\n",
       "      <td>446932</td>\n",
       "      <td>4542737</td>\n",
       "      <td>-238</td>\n",
       "      <td>401</td>\n",
       "      <td>-93</td>\n",
       "    </tr>\n",
       "  </tbody>\n",
       "</table>\n",
       "</div>"
      ],
      "text/plain": [
       "                 종가     전일비    등락률     거래량     거래대금  개인(억)  외국인(억)  기관(억)\n",
       "2019.07.17  2072.92  -18.95  -0.91  752119  4549215    606     334   -863\n",
       "2019.07.16  2091.87    9.39  +0.45  682802  5284192  -2157    2512   -315\n",
       "2019.07.15  2082.48   -4.18  -0.20  463519  3740179   -494     143    253\n",
       "2019.07.12  2086.66    6.08  +0.29  403935  3775268    168     -59    -64\n",
       "2019.07.11  2080.58   21.80  +1.06  376675  5057466  -1993    3649  -1782\n",
       "2019.07.10  2058.78    6.75  +0.33  355677  3938556    -13    2033  -1882\n",
       "2019.07.09  2052.03  -12.14  -0.59  440122  4439841    826     240  -1149\n",
       "2019.07.08  2064.17  -46.42  -2.20  515950  4349730    499      18   -498\n",
       "2019.07.05  2110.59    1.86  +0.09  459391  4025814  -1050    -250   1263\n",
       "2019.07.04  2108.73   12.71  +0.61  446932  4542737   -238     401    -93"
      ]
     },
     "execution_count": 125,
     "metadata": {},
     "output_type": "execute_result"
    }
   ],
   "source": [
    "df"
   ]
  },
  {
   "cell_type": "code",
   "execution_count": 50,
   "metadata": {},
   "outputs": [
    {
     "data": {
      "text/html": [
       "<div>\n",
       "<style scoped>\n",
       "    .dataframe tbody tr th:only-of-type {\n",
       "        vertical-align: middle;\n",
       "    }\n",
       "\n",
       "    .dataframe tbody tr th {\n",
       "        vertical-align: top;\n",
       "    }\n",
       "\n",
       "    .dataframe thead th {\n",
       "        text-align: right;\n",
       "    }\n",
       "</style>\n",
       "<table border=\"1\" class=\"dataframe\">\n",
       "  <thead>\n",
       "    <tr style=\"text-align: right;\">\n",
       "      <th></th>\n",
       "      <th>종가</th>\n",
       "      <th>전일비</th>\n",
       "      <th>등락률</th>\n",
       "      <th>거래량(주)</th>\n",
       "    </tr>\n",
       "    <tr>\n",
       "      <th>일자</th>\n",
       "      <th></th>\n",
       "      <th></th>\n",
       "      <th></th>\n",
       "      <th></th>\n",
       "    </tr>\n",
       "  </thead>\n",
       "  <tbody>\n",
       "    <tr>\n",
       "      <th>2019.07.16</th>\n",
       "      <td>27335.63</td>\n",
       "      <td>▼23.53</td>\n",
       "      <td>-0.09%</td>\n",
       "      <td>222201</td>\n",
       "    </tr>\n",
       "    <tr>\n",
       "      <th>2019.07.15</th>\n",
       "      <td>27359.16</td>\n",
       "      <td>▲27.13</td>\n",
       "      <td>+0.10%</td>\n",
       "      <td>194243</td>\n",
       "    </tr>\n",
       "    <tr>\n",
       "      <th>2019.07.12</th>\n",
       "      <td>27332.03</td>\n",
       "      <td>▲243.95</td>\n",
       "      <td>+0.90%</td>\n",
       "      <td>240856</td>\n",
       "    </tr>\n",
       "    <tr>\n",
       "      <th>2019.07.11</th>\n",
       "      <td>27088.08</td>\n",
       "      <td>▲227.88</td>\n",
       "      <td>+0.85%</td>\n",
       "      <td>247489</td>\n",
       "    </tr>\n",
       "    <tr>\n",
       "      <th>2019.07.10</th>\n",
       "      <td>26860.20</td>\n",
       "      <td>▲76.71</td>\n",
       "      <td>+0.29%</td>\n",
       "      <td>202498</td>\n",
       "    </tr>\n",
       "    <tr>\n",
       "      <th>2019.07.09</th>\n",
       "      <td>26783.49</td>\n",
       "      <td>▼22.65</td>\n",
       "      <td>-0.08%</td>\n",
       "      <td>210158</td>\n",
       "    </tr>\n",
       "    <tr>\n",
       "      <th>2019.07.08</th>\n",
       "      <td>26806.14</td>\n",
       "      <td>▼115.98</td>\n",
       "      <td>-0.43%</td>\n",
       "      <td>207406</td>\n",
       "    </tr>\n",
       "    <tr>\n",
       "      <th>2019.07.05</th>\n",
       "      <td>26922.12</td>\n",
       "      <td>▼43.88</td>\n",
       "      <td>-0.16%</td>\n",
       "      <td>183517</td>\n",
       "    </tr>\n",
       "    <tr>\n",
       "      <th>2019.07.03</th>\n",
       "      <td>26966.00</td>\n",
       "      <td>▲179.32</td>\n",
       "      <td>+0.67%</td>\n",
       "      <td>145845</td>\n",
       "    </tr>\n",
       "    <tr>\n",
       "      <th>2019.07.02</th>\n",
       "      <td>26786.68</td>\n",
       "      <td>▲69.25</td>\n",
       "      <td>+0.26%</td>\n",
       "      <td>214261</td>\n",
       "    </tr>\n",
       "  </tbody>\n",
       "</table>\n",
       "</div>"
      ],
      "text/plain": [
       "                  종가      전일비     등락률  거래량(주)\n",
       "일자                                           \n",
       "2019.07.16  27335.63   ▼23.53  -0.09%  222201\n",
       "2019.07.15  27359.16   ▲27.13  +0.10%  194243\n",
       "2019.07.12  27332.03  ▲243.95  +0.90%  240856\n",
       "2019.07.11  27088.08  ▲227.88  +0.85%  247489\n",
       "2019.07.10  26860.20   ▲76.71  +0.29%  202498\n",
       "2019.07.09  26783.49   ▼22.65  -0.08%  210158\n",
       "2019.07.08  26806.14  ▼115.98  -0.43%  207406\n",
       "2019.07.05  26922.12   ▼43.88  -0.16%  183517\n",
       "2019.07.03  26966.00  ▲179.32  +0.67%  145845\n",
       "2019.07.02  26786.68   ▲69.25  +0.26%  214261"
      ]
     },
     "execution_count": 50,
     "metadata": {},
     "output_type": "execute_result"
    }
   ],
   "source": [
    "usa_df"
   ]
  },
  {
   "cell_type": "code",
   "execution_count": 126,
   "metadata": {},
   "outputs": [
    {
     "data": {
      "text/plain": [
       "(Index(['2019.07.17', '2019.07.16', '2019.07.15', '2019.07.12', '2019.07.11',\n",
       "        '2019.07.10', '2019.07.09', '2019.07.08', '2019.07.05', '2019.07.04'],\n",
       "       dtype='object'),\n",
       " Index(['2019.07.16', '2019.07.15', '2019.07.12', '2019.07.11', '2019.07.10',\n",
       "        '2019.07.09', '2019.07.08', '2019.07.05', '2019.07.03', '2019.07.02'],\n",
       "       dtype='object', name='일자'))"
      ]
     },
     "execution_count": 126,
     "metadata": {},
     "output_type": "execute_result"
    }
   ],
   "source": [
    "df.index, usa_df.index"
   ]
  },
  {
   "cell_type": "code",
   "execution_count": 130,
   "metadata": {},
   "outputs": [
    {
     "name": "stderr",
     "output_type": "stream",
     "text": [
      "C:\\Users\\wtime\\Anaconda3\\lib\\site-packages\\ipykernel_launcher.py:1: FutureWarning: Sorting because non-concatenation axis is not aligned. A future version\n",
      "of pandas will change to not sort by default.\n",
      "\n",
      "To accept the future behavior, pass 'sort=False'.\n",
      "\n",
      "To retain the current behavior and silence the warning, pass 'sort=True'.\n",
      "\n",
      "  \"\"\"Entry point for launching an IPython kernel.\n"
     ]
    },
    {
     "data": {
      "text/plain": [
       "(8, 12)"
      ]
     },
     "execution_count": 130,
     "metadata": {},
     "output_type": "execute_result"
    }
   ],
   "source": [
    "tot_df = pd.concat((df, usa_df), axis =1).dropna()\n",
    "\n",
    "tot_df.shape"
   ]
  },
  {
   "cell_type": "code",
   "execution_count": 131,
   "metadata": {},
   "outputs": [
    {
     "data": {
      "text/html": [
       "<div>\n",
       "<style scoped>\n",
       "    .dataframe tbody tr th:only-of-type {\n",
       "        vertical-align: middle;\n",
       "    }\n",
       "\n",
       "    .dataframe tbody tr th {\n",
       "        vertical-align: top;\n",
       "    }\n",
       "\n",
       "    .dataframe thead th {\n",
       "        text-align: right;\n",
       "    }\n",
       "</style>\n",
       "<table border=\"1\" class=\"dataframe\">\n",
       "  <thead>\n",
       "    <tr style=\"text-align: right;\">\n",
       "      <th></th>\n",
       "      <th>종가</th>\n",
       "      <th>전일비</th>\n",
       "      <th>등락률</th>\n",
       "      <th>거래량</th>\n",
       "      <th>거래대금</th>\n",
       "      <th>개인(억)</th>\n",
       "      <th>외국인(억)</th>\n",
       "      <th>기관(억)</th>\n",
       "      <th>종가</th>\n",
       "      <th>전일비</th>\n",
       "      <th>등락률</th>\n",
       "      <th>거래량(주)</th>\n",
       "    </tr>\n",
       "  </thead>\n",
       "  <tbody>\n",
       "    <tr>\n",
       "      <th>2019.07.05</th>\n",
       "      <td>2110.59</td>\n",
       "      <td>1.86</td>\n",
       "      <td>+0.09</td>\n",
       "      <td>459391.0</td>\n",
       "      <td>4025814.0</td>\n",
       "      <td>-1050.0</td>\n",
       "      <td>-250.0</td>\n",
       "      <td>1263.0</td>\n",
       "      <td>26922.12</td>\n",
       "      <td>▼43.88</td>\n",
       "      <td>-0.16%</td>\n",
       "      <td>183517.0</td>\n",
       "    </tr>\n",
       "    <tr>\n",
       "      <th>2019.07.08</th>\n",
       "      <td>2064.17</td>\n",
       "      <td>-46.42</td>\n",
       "      <td>-2.20</td>\n",
       "      <td>515950.0</td>\n",
       "      <td>4349730.0</td>\n",
       "      <td>499.0</td>\n",
       "      <td>18.0</td>\n",
       "      <td>-498.0</td>\n",
       "      <td>26806.14</td>\n",
       "      <td>▼115.98</td>\n",
       "      <td>-0.43%</td>\n",
       "      <td>207406.0</td>\n",
       "    </tr>\n",
       "    <tr>\n",
       "      <th>2019.07.09</th>\n",
       "      <td>2052.03</td>\n",
       "      <td>-12.14</td>\n",
       "      <td>-0.59</td>\n",
       "      <td>440122.0</td>\n",
       "      <td>4439841.0</td>\n",
       "      <td>826.0</td>\n",
       "      <td>240.0</td>\n",
       "      <td>-1149.0</td>\n",
       "      <td>26783.49</td>\n",
       "      <td>▼22.65</td>\n",
       "      <td>-0.08%</td>\n",
       "      <td>210158.0</td>\n",
       "    </tr>\n",
       "    <tr>\n",
       "      <th>2019.07.10</th>\n",
       "      <td>2058.78</td>\n",
       "      <td>6.75</td>\n",
       "      <td>+0.33</td>\n",
       "      <td>355677.0</td>\n",
       "      <td>3938556.0</td>\n",
       "      <td>-13.0</td>\n",
       "      <td>2033.0</td>\n",
       "      <td>-1882.0</td>\n",
       "      <td>26860.20</td>\n",
       "      <td>▲76.71</td>\n",
       "      <td>+0.29%</td>\n",
       "      <td>202498.0</td>\n",
       "    </tr>\n",
       "    <tr>\n",
       "      <th>2019.07.11</th>\n",
       "      <td>2080.58</td>\n",
       "      <td>21.80</td>\n",
       "      <td>+1.06</td>\n",
       "      <td>376675.0</td>\n",
       "      <td>5057466.0</td>\n",
       "      <td>-1993.0</td>\n",
       "      <td>3649.0</td>\n",
       "      <td>-1782.0</td>\n",
       "      <td>27088.08</td>\n",
       "      <td>▲227.88</td>\n",
       "      <td>+0.85%</td>\n",
       "      <td>247489.0</td>\n",
       "    </tr>\n",
       "    <tr>\n",
       "      <th>2019.07.12</th>\n",
       "      <td>2086.66</td>\n",
       "      <td>6.08</td>\n",
       "      <td>+0.29</td>\n",
       "      <td>403935.0</td>\n",
       "      <td>3775268.0</td>\n",
       "      <td>168.0</td>\n",
       "      <td>-59.0</td>\n",
       "      <td>-64.0</td>\n",
       "      <td>27332.03</td>\n",
       "      <td>▲243.95</td>\n",
       "      <td>+0.90%</td>\n",
       "      <td>240856.0</td>\n",
       "    </tr>\n",
       "    <tr>\n",
       "      <th>2019.07.15</th>\n",
       "      <td>2082.48</td>\n",
       "      <td>-4.18</td>\n",
       "      <td>-0.20</td>\n",
       "      <td>463519.0</td>\n",
       "      <td>3740179.0</td>\n",
       "      <td>-494.0</td>\n",
       "      <td>143.0</td>\n",
       "      <td>253.0</td>\n",
       "      <td>27359.16</td>\n",
       "      <td>▲27.13</td>\n",
       "      <td>+0.10%</td>\n",
       "      <td>194243.0</td>\n",
       "    </tr>\n",
       "    <tr>\n",
       "      <th>2019.07.16</th>\n",
       "      <td>2091.87</td>\n",
       "      <td>9.39</td>\n",
       "      <td>+0.45</td>\n",
       "      <td>682802.0</td>\n",
       "      <td>5284192.0</td>\n",
       "      <td>-2157.0</td>\n",
       "      <td>2512.0</td>\n",
       "      <td>-315.0</td>\n",
       "      <td>27335.63</td>\n",
       "      <td>▼23.53</td>\n",
       "      <td>-0.09%</td>\n",
       "      <td>222201.0</td>\n",
       "    </tr>\n",
       "  </tbody>\n",
       "</table>\n",
       "</div>"
      ],
      "text/plain": [
       "                 종가     전일비    등락률       거래량       거래대금   개인(억)  외국인(억)  \\\n",
       "2019.07.05  2110.59    1.86  +0.09  459391.0  4025814.0 -1050.0  -250.0   \n",
       "2019.07.08  2064.17  -46.42  -2.20  515950.0  4349730.0   499.0    18.0   \n",
       "2019.07.09  2052.03  -12.14  -0.59  440122.0  4439841.0   826.0   240.0   \n",
       "2019.07.10  2058.78    6.75  +0.33  355677.0  3938556.0   -13.0  2033.0   \n",
       "2019.07.11  2080.58   21.80  +1.06  376675.0  5057466.0 -1993.0  3649.0   \n",
       "2019.07.12  2086.66    6.08  +0.29  403935.0  3775268.0   168.0   -59.0   \n",
       "2019.07.15  2082.48   -4.18  -0.20  463519.0  3740179.0  -494.0   143.0   \n",
       "2019.07.16  2091.87    9.39  +0.45  682802.0  5284192.0 -2157.0  2512.0   \n",
       "\n",
       "             기관(억)        종가      전일비     등락률    거래량(주)  \n",
       "2019.07.05  1263.0  26922.12   ▼43.88  -0.16%  183517.0  \n",
       "2019.07.08  -498.0  26806.14  ▼115.98  -0.43%  207406.0  \n",
       "2019.07.09 -1149.0  26783.49   ▼22.65  -0.08%  210158.0  \n",
       "2019.07.10 -1882.0  26860.20   ▲76.71  +0.29%  202498.0  \n",
       "2019.07.11 -1782.0  27088.08  ▲227.88  +0.85%  247489.0  \n",
       "2019.07.12   -64.0  27332.03  ▲243.95  +0.90%  240856.0  \n",
       "2019.07.15   253.0  27359.16   ▲27.13  +0.10%  194243.0  \n",
       "2019.07.16  -315.0  27335.63   ▼23.53  -0.09%  222201.0  "
      ]
     },
     "execution_count": 131,
     "metadata": {},
     "output_type": "execute_result"
    }
   ],
   "source": [
    "tot_df"
   ]
  },
  {
   "cell_type": "code",
   "execution_count": 132,
   "metadata": {},
   "outputs": [],
   "source": [
    "# 전처리 : 전일비와 등락률을 수치데이터로 변환\n",
    "tot_df['전일비'] = tot_df['전일비'].replace('▼', '-', regex =True)\n",
    "tot_df['전일비'] = tot_df['전일비'].replace('▲', '+', regex =True)\n",
    "tot_df['등락률'] = tot_df['등락률'].replace('%', '', regex =True)\n"
   ]
  },
  {
   "cell_type": "code",
   "execution_count": 137,
   "metadata": {},
   "outputs": [
    {
     "data": {
      "text/plain": [
       "종가        float64\n",
       "전일비       float64\n",
       "등락률       float64\n",
       "거래량       float64\n",
       "거래대금      float64\n",
       "개인(억)     float64\n",
       "외국인(억)    float64\n",
       "기관(억)     float64\n",
       "종가        float64\n",
       "전일비       float64\n",
       "등락률       float64\n",
       "거래량(주)    float64\n",
       "dtype: object"
      ]
     },
     "execution_count": 137,
     "metadata": {},
     "output_type": "execute_result"
    }
   ],
   "source": [
    "tot_df.dtypes"
   ]
  },
  {
   "cell_type": "code",
   "execution_count": 136,
   "metadata": {},
   "outputs": [],
   "source": [
    "tot_df['전일비'] = tot_df['전일비'].astype(np.float)\n",
    "tot_df['등락률'] = tot_df['등락률'].astype(np.float)"
   ]
  },
  {
   "cell_type": "code",
   "execution_count": 138,
   "metadata": {},
   "outputs": [
    {
     "data": {
      "text/plain": [
       "(8, 12)"
      ]
     },
     "execution_count": 138,
     "metadata": {},
     "output_type": "execute_result"
    }
   ],
   "source": [
    "tot_df.shape"
   ]
  },
  {
   "cell_type": "code",
   "execution_count": 139,
   "metadata": {},
   "outputs": [
    {
     "data": {
      "text/plain": [
       "((7, 12), (7,))"
      ]
     },
     "execution_count": 139,
     "metadata": {},
     "output_type": "execute_result"
    }
   ],
   "source": [
    "# X와 y를 분리\n",
    "X = tot_df.iloc[1:] # 오늘 데이터 제외\n",
    "y = tot_df.iloc[:-1, 0]# 가장 오래된 데이터돠 종가 외의 컬럼 제외\n",
    "X.shape, y.shape"
   ]
  },
  {
   "cell_type": "code",
   "execution_count": 140,
   "metadata": {},
   "outputs": [],
   "source": [
    "# Train/ Test 를 분리\n",
    "from sklearn.model_selection import train_test_split\n",
    "X_train, X_test, y_train, y_test = train_test_split(X, y, test_size = 0.25, random_state= 42)"
   ]
  },
  {
   "cell_type": "code",
   "execution_count": 141,
   "metadata": {},
   "outputs": [],
   "source": [
    "# train으로 Linear Regression 모델 fit\n",
    "from sklearn.linear_model import LinearRegression\n",
    "lr = LinearRegression().fit(X_train, y_train)"
   ]
  },
  {
   "cell_type": "code",
   "execution_count": 142,
   "metadata": {},
   "outputs": [
    {
     "data": {
      "text/plain": [
       "(1.0, -0.32505397464645136)"
      ]
     },
     "execution_count": 142,
     "metadata": {},
     "output_type": "execute_result"
    }
   ],
   "source": [
    "# score 측정\n",
    "lr.score(X_train, y_train), lr.score(X_test, y_test)"
   ]
  },
  {
   "cell_type": "code",
   "execution_count": 143,
   "metadata": {},
   "outputs": [
    {
     "data": {
      "text/plain": [
       "[<matplotlib.lines.Line2D at 0x1d0df0d20b8>]"
      ]
     },
     "execution_count": 143,
     "metadata": {},
     "output_type": "execute_result"
    },
    {
     "data": {
      "image/png": "[encoded data removed]",
      "text/plain": [
       "<Figure size 432x288 with 1 Axes>"
      ]
     },
     "metadata": {
      "needs_background": "light"
     },
     "output_type": "display_data"
    }
   ],
   "source": [
    "# 예측을 그래프로 시각화\n",
    "plt.plot(lr.predict(X_train))\n",
    "plt.plot(y_train)"
   ]
  },
  {
   "cell_type": "code",
   "execution_count": 144,
   "metadata": {},
   "outputs": [],
   "source": [
    "offset =2\n",
    "\n",
    "X_train = X[offset:] # 예전\n",
    "X_test = X[:offset] # 최근\n",
    "y_train = y[offset:] # 예전\n",
    "y_test = y[:offset] # 최근"
   ]
  },
  {
   "cell_type": "code",
   "execution_count": 145,
   "metadata": {},
   "outputs": [
    {
     "data": {
      "text/plain": [
       "[<matplotlib.lines.Line2D at 0x1d0db411c88>]"
      ]
     },
     "execution_count": 145,
     "metadata": {},
     "output_type": "execute_result"
    },
    {
     "data": {
      "image/png": "[encoded data removed]",
      "text/plain": [
       "<Figure size 432x288 with 1 Axes>"
      ]
     },
     "metadata": {
      "needs_background": "light"
     },
     "output_type": "display_data"
    }
   ],
   "source": [
    "from sklearn.linear_model import LinearRegression\n",
    "lr = LinearRegression().fit(X_train, y_train)\n",
    "\n",
    "plt.plot(lr.predict(X_train))\n",
    "plt.plot(y_train)"
   ]
  },
  {
   "cell_type": "code",
   "execution_count": 146,
   "metadata": {},
   "outputs": [],
   "source": [
    "minimum = np.min(df, axis =0)\n",
    "maximum = np.max(df, axis =0)\n",
    "df_norm = (df - minimum) / (maximum-minimum)"
   ]
  },
  {
   "cell_type": "code",
   "execution_count": 147,
   "metadata": {},
   "outputs": [],
   "source": [
    "#min ,max  정규화 [0,1]\n",
    "X = df_norm.iloc[1:]\n",
    "y = df_norm.iloc[:-1, 0]"
   ]
  },
  {
   "cell_type": "code",
   "execution_count": 148,
   "metadata": {},
   "outputs": [],
   "source": [
    "from sklearn.linear_model import LinearRegression\n",
    "lr = LinearRegression().fit(X_train, y_train)"
   ]
  },
  {
   "cell_type": "code",
   "execution_count": 149,
   "metadata": {},
   "outputs": [
    {
     "data": {
      "text/plain": [
       "(1.0, -0.32505397464648444)"
      ]
     },
     "execution_count": 149,
     "metadata": {},
     "output_type": "execute_result"
    }
   ],
   "source": [
    "lr.score(X_train, y_train), lr.score(X_test, y_test)"
   ]
  },
  {
   "cell_type": "code",
   "execution_count": 150,
   "metadata": {},
   "outputs": [
    {
     "data": {
      "text/plain": [
       "<matplotlib.legend.Legend at 0x1d0db39dcc0>"
      ]
     },
     "execution_count": 150,
     "metadata": {},
     "output_type": "execute_result"
    },
    {
     "data": {
      "image/png": "[encoded data removed]",
      "text/plain": [
       "<Figure size 432x288 with 1 Axes>"
      ]
     },
     "metadata": {
      "needs_background": "light"
     },
     "output_type": "display_data"
    }
   ],
   "source": [
    "train_len = np.arange(len(X_train))\n",
    "test_len = np.arange(len(X_train), len(X_train) + len(X_test))\n",
    "\n",
    "plt.plot(train_len, lr.predict(X_train), label = 'train_X')\n",
    "plt.plot(train_len, y_train, label='train_Y')\n",
    "plt.plot(test_len, lr.predict(X_test), label = 'test_X')\n",
    "plt.plot(test_len, y_test, label ='test_Y')\n",
    "plt.legend()"
   ]
  },
  {
   "cell_type": "code",
   "execution_count": null,
   "metadata": {},
   "outputs": [],
   "source": []
  },
  {
   "cell_type": "code",
   "execution_count": null,
   "metadata": {},
   "outputs": [],
   "source": []
  },
  {
   "cell_type": "markdown",
   "metadata": {},
   "source": [
    "2. loan default prediction > classification\n",
    "input : 검색"
   ]
  },
  {
   "cell_type": "code",
   "execution_count": 163,
   "metadata": {},
   "outputs": [],
   "source": [
    "import pandas as pd\n",
    "import numpy as np\n",
    "import matplotlib.pyplot as plt\n",
    "import mglearn\n",
    "from sklearn.decomposition import PCA\n",
    "from sklearn.cluster import KMeans"
   ]
  },
  {
   "cell_type": "code",
   "execution_count": 164,
   "metadata": {},
   "outputs": [],
   "source": [
    "loans = pd.read_csv('loans.csv')\n",
    "loans = loans.dropna()\n",
    "loans_hot = pd.get_dummies(loans) #원핫인코딩"
   ]
  },
  {
   "cell_type": "code",
   "execution_count": 165,
   "metadata": {},
   "outputs": [],
   "source": [
    "x_pca = PCA(n_components=2).fit(loans_hot).transform(loans_hot) # 차원 축소\n",
    "km = KMeans(n_clusters=2).fit(x_pca) # 2개로 그룹화\n",
    "group = km.predict(x_pca)"
   ]
  },
  {
   "cell_type": "code",
   "execution_count": 166,
   "metadata": {},
   "outputs": [
    {
     "data": {
      "image/png": "[encoded data removed]",
      "text/plain": [
       "<Figure size 432x288 with 1 Axes>"
      ]
     },
     "metadata": {
      "needs_background": "light"
     },
     "output_type": "display_data"
    }
   ],
   "source": [
    "l = mglearn.discrete_scatter(x_pca[:,0], x_pca[:,1], group) # 예측"
   ]
  },
  {
   "cell_type": "code",
   "execution_count": 167,
   "metadata": {},
   "outputs": [
    {
     "data": {
      "image/png": "[encoded data removed]",
      "text/plain": [
       "<Figure size 432x288 with 1 Axes>"
      ]
     },
     "metadata": {
      "needs_background": "light"
     },
     "output_type": "display_data"
    }
   ],
   "source": [
    "l = mglearn.discrete_scatter(x_pca[:,0], x_pca[:,1], loans_hot.iloc[:,0]) # 실제로 돈 안갚는 사람"
   ]
  },
  {
   "cell_type": "code",
   "execution_count": null,
   "metadata": {},
   "outputs": [],
   "source": []
  },
  {
   "cell_type": "markdown",
   "metadata": {},
   "source": [
    "3. credit card fraud detection > clustering\n",
    "input : 검색creditcard"
   ]
  },
  {
   "cell_type": "code",
   "execution_count": 168,
   "metadata": {},
   "outputs": [],
   "source": [
    "creditcard = pd.read_csv('creditcard.csv')"
   ]
  },
  {
   "cell_type": "code",
   "execution_count": 169,
   "metadata": {},
   "outputs": [
    {
     "data": {
      "text/html": [
       "<div>\n",
       "<style scoped>\n",
       "    .dataframe tbody tr th:only-of-type {\n",
       "        vertical-align: middle;\n",
       "    }\n",
       "\n",
       "    .dataframe tbody tr th {\n",
       "        vertical-align: top;\n",
       "    }\n",
       "\n",
       "    .dataframe thead th {\n",
       "        text-align: right;\n",
       "    }\n",
       "</style>\n",
       "<table border=\"1\" class=\"dataframe\">\n",
       "  <thead>\n",
       "    <tr style=\"text-align: right;\">\n",
       "      <th></th>\n",
       "      <th>Time</th>\n",
       "      <th>V1</th>\n",
       "      <th>V2</th>\n",
       "      <th>V3</th>\n",
       "      <th>V4</th>\n",
       "      <th>V5</th>\n",
       "      <th>V6</th>\n",
       "      <th>V7</th>\n",
       "      <th>V8</th>\n",
       "      <th>V9</th>\n",
       "      <th>...</th>\n",
       "      <th>V21</th>\n",
       "      <th>V22</th>\n",
       "      <th>V23</th>\n",
       "      <th>V24</th>\n",
       "      <th>V25</th>\n",
       "      <th>V26</th>\n",
       "      <th>V27</th>\n",
       "      <th>V28</th>\n",
       "      <th>Amount</th>\n",
       "      <th>Class</th>\n",
       "    </tr>\n",
       "  </thead>\n",
       "  <tbody>\n",
       "    <tr>\n",
       "      <th>0</th>\n",
       "      <td>0.0</td>\n",
       "      <td>-1.359807</td>\n",
       "      <td>-0.072781</td>\n",
       "      <td>2.536347</td>\n",
       "      <td>1.378155</td>\n",
       "      <td>-0.338321</td>\n",
       "      <td>0.462388</td>\n",
       "      <td>0.239599</td>\n",
       "      <td>0.098698</td>\n",
       "      <td>0.363787</td>\n",
       "      <td>...</td>\n",
       "      <td>-0.018307</td>\n",
       "      <td>0.277838</td>\n",
       "      <td>-0.110474</td>\n",
       "      <td>0.066928</td>\n",
       "      <td>0.128539</td>\n",
       "      <td>-0.189115</td>\n",
       "      <td>0.133558</td>\n",
       "      <td>-0.021053</td>\n",
       "      <td>149.62</td>\n",
       "      <td>0</td>\n",
       "    </tr>\n",
       "    <tr>\n",
       "      <th>1</th>\n",
       "      <td>0.0</td>\n",
       "      <td>1.191857</td>\n",
       "      <td>0.266151</td>\n",
       "      <td>0.166480</td>\n",
       "      <td>0.448154</td>\n",
       "      <td>0.060018</td>\n",
       "      <td>-0.082361</td>\n",
       "      <td>-0.078803</td>\n",
       "      <td>0.085102</td>\n",
       "      <td>-0.255425</td>\n",
       "      <td>...</td>\n",
       "      <td>-0.225775</td>\n",
       "      <td>-0.638672</td>\n",
       "      <td>0.101288</td>\n",
       "      <td>-0.339846</td>\n",
       "      <td>0.167170</td>\n",
       "      <td>0.125895</td>\n",
       "      <td>-0.008983</td>\n",
       "      <td>0.014724</td>\n",
       "      <td>2.69</td>\n",
       "      <td>0</td>\n",
       "    </tr>\n",
       "    <tr>\n",
       "      <th>2</th>\n",
       "      <td>1.0</td>\n",
       "      <td>-1.358354</td>\n",
       "      <td>-1.340163</td>\n",
       "      <td>1.773209</td>\n",
       "      <td>0.379780</td>\n",
       "      <td>-0.503198</td>\n",
       "      <td>1.800499</td>\n",
       "      <td>0.791461</td>\n",
       "      <td>0.247676</td>\n",
       "      <td>-1.514654</td>\n",
       "      <td>...</td>\n",
       "      <td>0.247998</td>\n",
       "      <td>0.771679</td>\n",
       "      <td>0.909412</td>\n",
       "      <td>-0.689281</td>\n",
       "      <td>-0.327642</td>\n",
       "      <td>-0.139097</td>\n",
       "      <td>-0.055353</td>\n",
       "      <td>-0.059752</td>\n",
       "      <td>378.66</td>\n",
       "      <td>0</td>\n",
       "    </tr>\n",
       "    <tr>\n",
       "      <th>3</th>\n",
       "      <td>1.0</td>\n",
       "      <td>-0.966272</td>\n",
       "      <td>-0.185226</td>\n",
       "      <td>1.792993</td>\n",
       "      <td>-0.863291</td>\n",
       "      <td>-0.010309</td>\n",
       "      <td>1.247203</td>\n",
       "      <td>0.237609</td>\n",
       "      <td>0.377436</td>\n",
       "      <td>-1.387024</td>\n",
       "      <td>...</td>\n",
       "      <td>-0.108300</td>\n",
       "      <td>0.005274</td>\n",
       "      <td>-0.190321</td>\n",
       "      <td>-1.175575</td>\n",
       "      <td>0.647376</td>\n",
       "      <td>-0.221929</td>\n",
       "      <td>0.062723</td>\n",
       "      <td>0.061458</td>\n",
       "      <td>123.50</td>\n",
       "      <td>0</td>\n",
       "    </tr>\n",
       "    <tr>\n",
       "      <th>4</th>\n",
       "      <td>2.0</td>\n",
       "      <td>-1.158233</td>\n",
       "      <td>0.877737</td>\n",
       "      <td>1.548718</td>\n",
       "      <td>0.403034</td>\n",
       "      <td>-0.407193</td>\n",
       "      <td>0.095921</td>\n",
       "      <td>0.592941</td>\n",
       "      <td>-0.270533</td>\n",
       "      <td>0.817739</td>\n",
       "      <td>...</td>\n",
       "      <td>-0.009431</td>\n",
       "      <td>0.798278</td>\n",
       "      <td>-0.137458</td>\n",
       "      <td>0.141267</td>\n",
       "      <td>-0.206010</td>\n",
       "      <td>0.502292</td>\n",
       "      <td>0.219422</td>\n",
       "      <td>0.215153</td>\n",
       "      <td>69.99</td>\n",
       "      <td>0</td>\n",
       "    </tr>\n",
       "  </tbody>\n",
       "</table>\n",
       "<p>5 rows × 31 columns</p>\n",
       "</div>"
      ],
      "text/plain": [
       "   Time        V1        V2        V3        V4        V5        V6        V7  \\\n",
       "0   0.0 -1.359807 -0.072781  2.536347  1.378155 -0.338321  0.462388  0.239599   \n",
       "1   0.0  1.191857  0.266151  0.166480  0.448154  0.060018 -0.082361 -0.078803   \n",
       "2   1.0 -1.358354 -1.340163  1.773209  0.379780 -0.503198  1.800499  0.791461   \n",
       "3   1.0 -0.966272 -0.185226  1.792993 -0.863291 -0.010309  1.247203  0.237609   \n",
       "4   2.0 -1.158233  0.877737  1.548718  0.403034 -0.407193  0.095921  0.592941   \n",
       "\n",
       "         V8        V9  ...       V21       V22       V23       V24       V25  \\\n",
       "0  0.098698  0.363787  ... -0.018307  0.277838 -0.110474  0.066928  0.128539   \n",
       "1  0.085102 -0.255425  ... -0.225775 -0.638672  0.101288 -0.339846  0.167170   \n",
       "2  0.247676 -1.514654  ...  0.247998  0.771679  0.909412 -0.689281 -0.327642   \n",
       "3  0.377436 -1.387024  ... -0.108300  0.005274 -0.190321 -1.175575  0.647376   \n",
       "4 -0.270533  0.817739  ... -0.009431  0.798278 -0.137458  0.141267 -0.206010   \n",
       "\n",
       "        V26       V27       V28  Amount  Class  \n",
       "0 -0.189115  0.133558 -0.021053  149.62      0  \n",
       "1  0.125895 -0.008983  0.014724    2.69      0  \n",
       "2 -0.139097 -0.055353 -0.059752  378.66      0  \n",
       "3 -0.221929  0.062723  0.061458  123.50      0  \n",
       "4  0.502292  0.219422  0.215153   69.99      0  \n",
       "\n",
       "[5 rows x 31 columns]"
      ]
     },
     "execution_count": 169,
     "metadata": {},
     "output_type": "execute_result"
    }
   ],
   "source": [
    "creditcard.head()"
   ]
  },
  {
   "cell_type": "code",
   "execution_count": 170,
   "metadata": {},
   "outputs": [
    {
     "data": {
      "text/plain": [
       "Index(['Time', 'V1', 'V2', 'V3', 'V4', 'V5', 'V6', 'V7', 'V8', 'V9', 'V10',\n",
       "       'V11', 'V12', 'V13', 'V14', 'V15', 'V16', 'V17', 'V18', 'V19', 'V20',\n",
       "       'V21', 'V22', 'V23', 'V24', 'V25', 'V26', 'V27', 'V28', 'Amount',\n",
       "       'Class'],\n",
       "      dtype='object')"
      ]
     },
     "execution_count": 170,
     "metadata": {},
     "output_type": "execute_result"
    }
   ],
   "source": [
    "creditcard.columns"
   ]
  },
  {
   "cell_type": "code",
   "execution_count": 171,
   "metadata": {},
   "outputs": [
    {
     "name": "stdout",
     "output_type": "stream",
     "text": [
      "<class 'pandas.core.frame.DataFrame'>\n",
      "RangeIndex: 284807 entries, 0 to 284806\n",
      "Data columns (total 31 columns):\n",
      "Time      284807 non-null float64\n",
      "V1        284807 non-null float64\n",
      "V2        284807 non-null float64\n",
      "V3        284807 non-null float64\n",
      "V4        284807 non-null float64\n",
      "V5        284807 non-null float64\n",
      "V6        284807 non-null float64\n",
      "V7        284807 non-null float64\n",
      "V8        284807 non-null float64\n",
      "V9        284807 non-null float64\n",
      "V10       284807 non-null float64\n",
      "V11       284807 non-null float64\n",
      "V12       284807 non-null float64\n",
      "V13       284807 non-null float64\n",
      "V14       284807 non-null float64\n",
      "V15       284807 non-null float64\n",
      "V16       284807 non-null float64\n",
      "V17       284807 non-null float64\n",
      "V18       284807 non-null float64\n",
      "V19       284807 non-null float64\n",
      "V20       284807 non-null float64\n",
      "V21       284807 non-null float64\n",
      "V22       284807 non-null float64\n",
      "V23       284807 non-null float64\n",
      "V24       284807 non-null float64\n",
      "V25       284807 non-null float64\n",
      "V26       284807 non-null float64\n",
      "V27       284807 non-null float64\n",
      "V28       284807 non-null float64\n",
      "Amount    284807 non-null float64\n",
      "Class     284807 non-null int64\n",
      "dtypes: float64(30), int64(1)\n",
      "memory usage: 67.4 MB\n"
     ]
    }
   ],
   "source": [
    "creditcard.info()"
   ]
  },
  {
   "cell_type": "code",
   "execution_count": 172,
   "metadata": {},
   "outputs": [
    {
     "data": {
      "text/plain": [
       "0"
      ]
     },
     "execution_count": 172,
     "metadata": {},
     "output_type": "execute_result"
    }
   ],
   "source": [
    "# 누락된거 있는지 확인\n",
    "creditcard.isnull().sum().sum()"
   ]
  },
  {
   "cell_type": "code",
   "execution_count": 173,
   "metadata": {},
   "outputs": [
    {
     "data": {
      "text/plain": [
       "((284807, 30), (284807,))"
      ]
     },
     "execution_count": 173,
     "metadata": {},
     "output_type": "execute_result"
    }
   ],
   "source": [
    "X= creditcard.iloc[:, :-1]\n",
    "y = creditcard.iloc[:, -1]\n",
    "X.shape, y.shape"
   ]
  },
  {
   "cell_type": "code",
   "execution_count": 174,
   "metadata": {},
   "outputs": [],
   "source": [
    "# K Means\n",
    "from sklearn.cluster import KMeans"
   ]
  },
  {
   "cell_type": "code",
   "execution_count": 175,
   "metadata": {},
   "outputs": [],
   "source": [
    "pca = PCA(n_components=2).fit(X)\n",
    "x_pca = pca.transform(X) \n",
    "km = KMeans(n_clusters=2).fit(x_pca) #2개로 그룹화\n",
    "p1 = km.predict(x_pca)"
   ]
  },
  {
   "cell_type": "code",
   "execution_count": 176,
   "metadata": {},
   "outputs": [
    {
     "data": {
      "image/png": "[encoded data removed]",
      "text/plain": [
       "<Figure size 432x288 with 1 Axes>"
      ]
     },
     "metadata": {
      "needs_background": "light"
     },
     "output_type": "display_data"
    }
   ],
   "source": [
    "l = mglearn.discrete_scatter(x_pca[:,0],x_pca[:,1], p1) #예츨"
   ]
  },
  {
   "cell_type": "code",
   "execution_count": 177,
   "metadata": {},
   "outputs": [
    {
     "data": {
      "image/png": "[encoded data removed]",
      "text/plain": [
       "<Figure size 432x288 with 1 Axes>"
      ]
     },
     "metadata": {
      "needs_background": "light"
     },
     "output_type": "display_data"
    }
   ],
   "source": [
    "l = mglearn.discrete_scatter(x_pca[:,0],x_pca[:,1], creditcard.iloc[:,-1])"
   ]
  },
  {
   "cell_type": "code",
   "execution_count": 180,
   "metadata": {},
   "outputs": [
    {
     "data": {
      "text/plain": [
       "0"
      ]
     },
     "execution_count": 180,
     "metadata": {},
     "output_type": "execute_result"
    }
   ],
   "source": [
    "# 병합 군집\n",
    "from sklearn.cluster import AgglomerativeClustering\n",
    "creditcard = pd.read_csv('creditcard.csv')\n",
    "creditcard.isnull().sum().sum()"
   ]
  },
  {
   "cell_type": "code",
   "execution_count": 181,
   "metadata": {},
   "outputs": [
    {
     "data": {
      "text/plain": [
       "((284807, 30), (284807,))"
      ]
     },
     "execution_count": 181,
     "metadata": {},
     "output_type": "execute_result"
    }
   ],
   "source": [
    "X, y "
   ]
  },
  {
   "cell_type": "code",
   "execution_count": 185,
   "metadata": {},
   "outputs": [
    {
     "ename": "MemoryError",
     "evalue": "",
     "output_type": "error",
     "traceback": [
      "\u001b[1;31m---------------------------------------------------------------------------\u001b[0m",
      "\u001b[1;31mMemoryError\u001b[0m                               Traceback (most recent call last)",
      "\u001b[1;32m<ipython-input-185-bfbf186ee3c0>\u001b[0m in \u001b[0;36m<module>\u001b[1;34m\u001b[0m\n\u001b[0;32m      1\u001b[0m \u001b[0magg\u001b[0m \u001b[1;33m=\u001b[0m \u001b[0mAgglomerativeClustering\u001b[0m\u001b[1;33m(\u001b[0m\u001b[0mn_clusters\u001b[0m\u001b[1;33m=\u001b[0m\u001b[1;36m5\u001b[0m\u001b[1;33m)\u001b[0m\u001b[1;33m\u001b[0m\u001b[1;33m\u001b[0m\u001b[0m\n\u001b[1;32m----> 2\u001b[1;33m \u001b[0massignment\u001b[0m \u001b[1;33m=\u001b[0m \u001b[0magg\u001b[0m\u001b[1;33m.\u001b[0m\u001b[0mfit_predict\u001b[0m\u001b[1;33m(\u001b[0m\u001b[0mX\u001b[0m\u001b[1;33m)\u001b[0m\u001b[1;33m\u001b[0m\u001b[1;33m\u001b[0m\u001b[0m\n\u001b[0m",
      "\u001b[1;32m~\\Anaconda3\\lib\\site-packages\\sklearn\\base.py\u001b[0m in \u001b[0;36mfit_predict\u001b[1;34m(self, X, y)\u001b[0m\n\u001b[0;32m    445\u001b[0m         \u001b[1;31m# non-optimized default implementation; override when a better\u001b[0m\u001b[1;33m\u001b[0m\u001b[1;33m\u001b[0m\u001b[1;33m\u001b[0m\u001b[0m\n\u001b[0;32m    446\u001b[0m         \u001b[1;31m# method is possible for a given clustering algorithm\u001b[0m\u001b[1;33m\u001b[0m\u001b[1;33m\u001b[0m\u001b[1;33m\u001b[0m\u001b[0m\n\u001b[1;32m--> 447\u001b[1;33m         \u001b[0mself\u001b[0m\u001b[1;33m.\u001b[0m\u001b[0mfit\u001b[0m\u001b[1;33m(\u001b[0m\u001b[0mX\u001b[0m\u001b[1;33m)\u001b[0m\u001b[1;33m\u001b[0m\u001b[1;33m\u001b[0m\u001b[0m\n\u001b[0m\u001b[0;32m    448\u001b[0m         \u001b[1;32mreturn\u001b[0m \u001b[0mself\u001b[0m\u001b[1;33m.\u001b[0m\u001b[0mlabels_\u001b[0m\u001b[1;33m\u001b[0m\u001b[1;33m\u001b[0m\u001b[0m\n\u001b[0;32m    449\u001b[0m \u001b[1;33m\u001b[0m\u001b[0m\n",
      "\u001b[1;32m~\\Anaconda3\\lib\\site-packages\\sklearn\\cluster\\hierarchical.py\u001b[0m in \u001b[0;36mfit\u001b[1;34m(self, X, y)\u001b[0m\n\u001b[0;32m    866\u001b[0m                                          \u001b[0mn_clusters\u001b[0m\u001b[1;33m=\u001b[0m\u001b[0mn_clusters\u001b[0m\u001b[1;33m,\u001b[0m\u001b[1;33m\u001b[0m\u001b[1;33m\u001b[0m\u001b[0m\n\u001b[0;32m    867\u001b[0m                                          \u001b[0mreturn_distance\u001b[0m\u001b[1;33m=\u001b[0m\u001b[0mreturn_distance\u001b[0m\u001b[1;33m,\u001b[0m\u001b[1;33m\u001b[0m\u001b[1;33m\u001b[0m\u001b[0m\n\u001b[1;32m--> 868\u001b[1;33m                                          **kwargs)\n\u001b[0m\u001b[0;32m    869\u001b[0m         (self.children_,\n\u001b[0;32m    870\u001b[0m          \u001b[0mself\u001b[0m\u001b[1;33m.\u001b[0m\u001b[0mn_connected_components_\u001b[0m\u001b[1;33m,\u001b[0m\u001b[1;33m\u001b[0m\u001b[1;33m\u001b[0m\u001b[0m\n",
      "\u001b[1;32m~\\Anaconda3\\lib\\site-packages\\joblib\\memory.py\u001b[0m in \u001b[0;36m__call__\u001b[1;34m(self, *args, **kwargs)\u001b[0m\n\u001b[0;32m    353\u001b[0m \u001b[1;33m\u001b[0m\u001b[0m\n\u001b[0;32m    354\u001b[0m     \u001b[1;32mdef\u001b[0m \u001b[0m__call__\u001b[0m\u001b[1;33m(\u001b[0m\u001b[0mself\u001b[0m\u001b[1;33m,\u001b[0m \u001b[1;33m*\u001b[0m\u001b[0margs\u001b[0m\u001b[1;33m,\u001b[0m \u001b[1;33m**\u001b[0m\u001b[0mkwargs\u001b[0m\u001b[1;33m)\u001b[0m\u001b[1;33m:\u001b[0m\u001b[1;33m\u001b[0m\u001b[1;33m\u001b[0m\u001b[0m\n\u001b[1;32m--> 355\u001b[1;33m         \u001b[1;32mreturn\u001b[0m \u001b[0mself\u001b[0m\u001b[1;33m.\u001b[0m\u001b[0mfunc\u001b[0m\u001b[1;33m(\u001b[0m\u001b[1;33m*\u001b[0m\u001b[0margs\u001b[0m\u001b[1;33m,\u001b[0m \u001b[1;33m**\u001b[0m\u001b[0mkwargs\u001b[0m\u001b[1;33m)\u001b[0m\u001b[1;33m\u001b[0m\u001b[1;33m\u001b[0m\u001b[0m\n\u001b[0m\u001b[0;32m    356\u001b[0m \u001b[1;33m\u001b[0m\u001b[0m\n\u001b[0;32m    357\u001b[0m     \u001b[1;32mdef\u001b[0m \u001b[0mcall_and_shelve\u001b[0m\u001b[1;33m(\u001b[0m\u001b[0mself\u001b[0m\u001b[1;33m,\u001b[0m \u001b[1;33m*\u001b[0m\u001b[0margs\u001b[0m\u001b[1;33m,\u001b[0m \u001b[1;33m**\u001b[0m\u001b[0mkwargs\u001b[0m\u001b[1;33m)\u001b[0m\u001b[1;33m:\u001b[0m\u001b[1;33m\u001b[0m\u001b[1;33m\u001b[0m\u001b[0m\n",
      "\u001b[1;32m~\\Anaconda3\\lib\\site-packages\\sklearn\\cluster\\hierarchical.py\u001b[0m in \u001b[0;36mward_tree\u001b[1;34m(X, connectivity, n_clusters, return_distance)\u001b[0m\n\u001b[0;32m    231\u001b[0m                           stacklevel=2)\n\u001b[0;32m    232\u001b[0m         \u001b[0mX\u001b[0m \u001b[1;33m=\u001b[0m \u001b[0mnp\u001b[0m\u001b[1;33m.\u001b[0m\u001b[0mrequire\u001b[0m\u001b[1;33m(\u001b[0m\u001b[0mX\u001b[0m\u001b[1;33m,\u001b[0m \u001b[0mrequirements\u001b[0m\u001b[1;33m=\u001b[0m\u001b[1;34m\"W\"\u001b[0m\u001b[1;33m)\u001b[0m\u001b[1;33m\u001b[0m\u001b[1;33m\u001b[0m\u001b[0m\n\u001b[1;32m--> 233\u001b[1;33m         \u001b[0mout\u001b[0m \u001b[1;33m=\u001b[0m \u001b[0mhierarchy\u001b[0m\u001b[1;33m.\u001b[0m\u001b[0mward\u001b[0m\u001b[1;33m(\u001b[0m\u001b[0mX\u001b[0m\u001b[1;33m)\u001b[0m\u001b[1;33m\u001b[0m\u001b[1;33m\u001b[0m\u001b[0m\n\u001b[0m\u001b[0;32m    234\u001b[0m         \u001b[0mchildren_\u001b[0m \u001b[1;33m=\u001b[0m \u001b[0mout\u001b[0m\u001b[1;33m[\u001b[0m\u001b[1;33m:\u001b[0m\u001b[1;33m,\u001b[0m \u001b[1;33m:\u001b[0m\u001b[1;36m2\u001b[0m\u001b[1;33m]\u001b[0m\u001b[1;33m.\u001b[0m\u001b[0mastype\u001b[0m\u001b[1;33m(\u001b[0m\u001b[0mnp\u001b[0m\u001b[1;33m.\u001b[0m\u001b[0mintp\u001b[0m\u001b[1;33m)\u001b[0m\u001b[1;33m\u001b[0m\u001b[1;33m\u001b[0m\u001b[0m\n\u001b[0;32m    235\u001b[0m \u001b[1;33m\u001b[0m\u001b[0m\n",
      "\u001b[1;32m~\\Anaconda3\\lib\\site-packages\\scipy\\cluster\\hierarchy.py\u001b[0m in \u001b[0;36mward\u001b[1;34m(y)\u001b[0m\n\u001b[0;32m    876\u001b[0m \u001b[1;33m\u001b[0m\u001b[0m\n\u001b[0;32m    877\u001b[0m     \"\"\"\n\u001b[1;32m--> 878\u001b[1;33m     \u001b[1;32mreturn\u001b[0m \u001b[0mlinkage\u001b[0m\u001b[1;33m(\u001b[0m\u001b[0my\u001b[0m\u001b[1;33m,\u001b[0m \u001b[0mmethod\u001b[0m\u001b[1;33m=\u001b[0m\u001b[1;34m'ward'\u001b[0m\u001b[1;33m,\u001b[0m \u001b[0mmetric\u001b[0m\u001b[1;33m=\u001b[0m\u001b[1;34m'euclidean'\u001b[0m\u001b[1;33m)\u001b[0m\u001b[1;33m\u001b[0m\u001b[1;33m\u001b[0m\u001b[0m\n\u001b[0m\u001b[0;32m    879\u001b[0m \u001b[1;33m\u001b[0m\u001b[0m\n\u001b[0;32m    880\u001b[0m \u001b[1;33m\u001b[0m\u001b[0m\n",
      "\u001b[1;32m~\\Anaconda3\\lib\\site-packages\\scipy\\cluster\\hierarchy.py\u001b[0m in \u001b[0;36mlinkage\u001b[1;34m(y, method, metric, optimal_ordering)\u001b[0m\n\u001b[0;32m   1102\u001b[0m                          \u001b[1;34m'matrix looks suspiciously like an uncondensed '\u001b[0m\u001b[1;33m\u001b[0m\u001b[1;33m\u001b[0m\u001b[0m\n\u001b[0;32m   1103\u001b[0m                          'distance matrix')\n\u001b[1;32m-> 1104\u001b[1;33m         \u001b[0my\u001b[0m \u001b[1;33m=\u001b[0m \u001b[0mdistance\u001b[0m\u001b[1;33m.\u001b[0m\u001b[0mpdist\u001b[0m\u001b[1;33m(\u001b[0m\u001b[0my\u001b[0m\u001b[1;33m,\u001b[0m \u001b[0mmetric\u001b[0m\u001b[1;33m)\u001b[0m\u001b[1;33m\u001b[0m\u001b[1;33m\u001b[0m\u001b[0m\n\u001b[0m\u001b[0;32m   1105\u001b[0m     \u001b[1;32melse\u001b[0m\u001b[1;33m:\u001b[0m\u001b[1;33m\u001b[0m\u001b[1;33m\u001b[0m\u001b[0m\n\u001b[0;32m   1106\u001b[0m         \u001b[1;32mraise\u001b[0m \u001b[0mValueError\u001b[0m\u001b[1;33m(\u001b[0m\u001b[1;34m\"`y` must be 1 or 2 dimensional.\"\u001b[0m\u001b[1;33m)\u001b[0m\u001b[1;33m\u001b[0m\u001b[1;33m\u001b[0m\u001b[0m\n",
      "\u001b[1;32m~\\Anaconda3\\lib\\site-packages\\scipy\\spatial\\distance.py\u001b[0m in \u001b[0;36mpdist\u001b[1;34m(X, metric, *args, **kwargs)\u001b[0m\n\u001b[0;32m   1983\u001b[0m     \u001b[0mout\u001b[0m \u001b[1;33m=\u001b[0m \u001b[0mkwargs\u001b[0m\u001b[1;33m.\u001b[0m\u001b[0mpop\u001b[0m\u001b[1;33m(\u001b[0m\u001b[1;34m\"out\"\u001b[0m\u001b[1;33m,\u001b[0m \u001b[1;32mNone\u001b[0m\u001b[1;33m)\u001b[0m\u001b[1;33m\u001b[0m\u001b[1;33m\u001b[0m\u001b[0m\n\u001b[0;32m   1984\u001b[0m     \u001b[1;32mif\u001b[0m \u001b[0mout\u001b[0m \u001b[1;32mis\u001b[0m \u001b[1;32mNone\u001b[0m\u001b[1;33m:\u001b[0m\u001b[1;33m\u001b[0m\u001b[1;33m\u001b[0m\u001b[0m\n\u001b[1;32m-> 1985\u001b[1;33m         \u001b[0mdm\u001b[0m \u001b[1;33m=\u001b[0m \u001b[0mnp\u001b[0m\u001b[1;33m.\u001b[0m\u001b[0mempty\u001b[0m\u001b[1;33m(\u001b[0m\u001b[1;33m(\u001b[0m\u001b[0mm\u001b[0m \u001b[1;33m*\u001b[0m \u001b[1;33m(\u001b[0m\u001b[0mm\u001b[0m \u001b[1;33m-\u001b[0m \u001b[1;36m1\u001b[0m\u001b[1;33m)\u001b[0m\u001b[1;33m)\u001b[0m \u001b[1;33m//\u001b[0m \u001b[1;36m2\u001b[0m\u001b[1;33m,\u001b[0m \u001b[0mdtype\u001b[0m\u001b[1;33m=\u001b[0m\u001b[0mnp\u001b[0m\u001b[1;33m.\u001b[0m\u001b[0mdouble\u001b[0m\u001b[1;33m)\u001b[0m\u001b[1;33m\u001b[0m\u001b[1;33m\u001b[0m\u001b[0m\n\u001b[0m\u001b[0;32m   1986\u001b[0m     \u001b[1;32melse\u001b[0m\u001b[1;33m:\u001b[0m\u001b[1;33m\u001b[0m\u001b[1;33m\u001b[0m\u001b[0m\n\u001b[0;32m   1987\u001b[0m         \u001b[1;32mif\u001b[0m \u001b[0mout\u001b[0m\u001b[1;33m.\u001b[0m\u001b[0mshape\u001b[0m \u001b[1;33m!=\u001b[0m \u001b[1;33m(\u001b[0m\u001b[0mm\u001b[0m \u001b[1;33m*\u001b[0m \u001b[1;33m(\u001b[0m\u001b[0mm\u001b[0m \u001b[1;33m-\u001b[0m \u001b[1;36m1\u001b[0m\u001b[1;33m)\u001b[0m \u001b[1;33m//\u001b[0m \u001b[1;36m2\u001b[0m\u001b[1;33m,\u001b[0m\u001b[1;33m)\u001b[0m\u001b[1;33m:\u001b[0m\u001b[1;33m\u001b[0m\u001b[1;33m\u001b[0m\u001b[0m\n",
      "\u001b[1;31mMemoryError\u001b[0m: "
     ]
    }
   ],
   "source": [
    "agg = AgglomerativeClustering(n_clusters=5)\n",
    "assignment = agg.fit_predict(X)"
   ]
  },
  {
   "cell_type": "code",
   "execution_count": 159,
   "metadata": {},
   "outputs": [
    {
     "ename": "TypeError",
     "evalue": "'(slice(None, None, None), 0)' is an invalid key",
     "output_type": "error",
     "traceback": [
      "\u001b[1;31m---------------------------------------------------------------------------\u001b[0m",
      "\u001b[1;31mTypeError\u001b[0m                                 Traceback (most recent call last)",
      "\u001b[1;32m<ipython-input-159-7e854aa5a2dc>\u001b[0m in \u001b[0;36m<module>\u001b[1;34m\u001b[0m\n\u001b[1;32m----> 1\u001b[1;33m \u001b[0mmglearn\u001b[0m\u001b[1;33m.\u001b[0m\u001b[0mdiscrete_scatter\u001b[0m\u001b[1;33m(\u001b[0m\u001b[0mX\u001b[0m\u001b[1;33m[\u001b[0m\u001b[1;33m:\u001b[0m\u001b[1;33m,\u001b[0m\u001b[1;36m0\u001b[0m\u001b[1;33m]\u001b[0m\u001b[1;33m,\u001b[0m \u001b[0mX\u001b[0m\u001b[1;33m[\u001b[0m\u001b[1;33m:\u001b[0m\u001b[1;33m,\u001b[0m\u001b[1;36m1\u001b[0m\u001b[1;33m]\u001b[0m\u001b[1;33m,\u001b[0m \u001b[0mp\u001b[0m\u001b[1;33m)\u001b[0m\u001b[1;33m\u001b[0m\u001b[1;33m\u001b[0m\u001b[0m\n\u001b[0m",
      "\u001b[1;32m~\\Anaconda3\\lib\\site-packages\\pandas\\core\\frame.py\u001b[0m in \u001b[0;36m__getitem__\u001b[1;34m(self, key)\u001b[0m\n\u001b[0;32m   2925\u001b[0m             \u001b[1;32mif\u001b[0m \u001b[0mself\u001b[0m\u001b[1;33m.\u001b[0m\u001b[0mcolumns\u001b[0m\u001b[1;33m.\u001b[0m\u001b[0mnlevels\u001b[0m \u001b[1;33m>\u001b[0m \u001b[1;36m1\u001b[0m\u001b[1;33m:\u001b[0m\u001b[1;33m\u001b[0m\u001b[1;33m\u001b[0m\u001b[0m\n\u001b[0;32m   2926\u001b[0m                 \u001b[1;32mreturn\u001b[0m \u001b[0mself\u001b[0m\u001b[1;33m.\u001b[0m\u001b[0m_getitem_multilevel\u001b[0m\u001b[1;33m(\u001b[0m\u001b[0mkey\u001b[0m\u001b[1;33m)\u001b[0m\u001b[1;33m\u001b[0m\u001b[1;33m\u001b[0m\u001b[0m\n\u001b[1;32m-> 2927\u001b[1;33m             \u001b[0mindexer\u001b[0m \u001b[1;33m=\u001b[0m \u001b[0mself\u001b[0m\u001b[1;33m.\u001b[0m\u001b[0mcolumns\u001b[0m\u001b[1;33m.\u001b[0m\u001b[0mget_loc\u001b[0m\u001b[1;33m(\u001b[0m\u001b[0mkey\u001b[0m\u001b[1;33m)\u001b[0m\u001b[1;33m\u001b[0m\u001b[1;33m\u001b[0m\u001b[0m\n\u001b[0m\u001b[0;32m   2928\u001b[0m             \u001b[1;32mif\u001b[0m \u001b[0mis_integer\u001b[0m\u001b[1;33m(\u001b[0m\u001b[0mindexer\u001b[0m\u001b[1;33m)\u001b[0m\u001b[1;33m:\u001b[0m\u001b[1;33m\u001b[0m\u001b[1;33m\u001b[0m\u001b[0m\n\u001b[0;32m   2929\u001b[0m                 \u001b[0mindexer\u001b[0m \u001b[1;33m=\u001b[0m \u001b[1;33m[\u001b[0m\u001b[0mindexer\u001b[0m\u001b[1;33m]\u001b[0m\u001b[1;33m\u001b[0m\u001b[1;33m\u001b[0m\u001b[0m\n",
      "\u001b[1;32m~\\Anaconda3\\lib\\site-packages\\pandas\\core\\indexes\\base.py\u001b[0m in \u001b[0;36mget_loc\u001b[1;34m(self, key, method, tolerance)\u001b[0m\n\u001b[0;32m   2655\u001b[0m                                  'backfill or nearest lookups')\n\u001b[0;32m   2656\u001b[0m             \u001b[1;32mtry\u001b[0m\u001b[1;33m:\u001b[0m\u001b[1;33m\u001b[0m\u001b[1;33m\u001b[0m\u001b[0m\n\u001b[1;32m-> 2657\u001b[1;33m                 \u001b[1;32mreturn\u001b[0m \u001b[0mself\u001b[0m\u001b[1;33m.\u001b[0m\u001b[0m_engine\u001b[0m\u001b[1;33m.\u001b[0m\u001b[0mget_loc\u001b[0m\u001b[1;33m(\u001b[0m\u001b[0mkey\u001b[0m\u001b[1;33m)\u001b[0m\u001b[1;33m\u001b[0m\u001b[1;33m\u001b[0m\u001b[0m\n\u001b[0m\u001b[0;32m   2658\u001b[0m             \u001b[1;32mexcept\u001b[0m \u001b[0mKeyError\u001b[0m\u001b[1;33m:\u001b[0m\u001b[1;33m\u001b[0m\u001b[1;33m\u001b[0m\u001b[0m\n\u001b[0;32m   2659\u001b[0m                 \u001b[1;32mreturn\u001b[0m \u001b[0mself\u001b[0m\u001b[1;33m.\u001b[0m\u001b[0m_engine\u001b[0m\u001b[1;33m.\u001b[0m\u001b[0mget_loc\u001b[0m\u001b[1;33m(\u001b[0m\u001b[0mself\u001b[0m\u001b[1;33m.\u001b[0m\u001b[0m_maybe_cast_indexer\u001b[0m\u001b[1;33m(\u001b[0m\u001b[0mkey\u001b[0m\u001b[1;33m)\u001b[0m\u001b[1;33m)\u001b[0m\u001b[1;33m\u001b[0m\u001b[1;33m\u001b[0m\u001b[0m\n",
      "\u001b[1;32mpandas/_libs/index.pyx\u001b[0m in \u001b[0;36mpandas._libs.index.IndexEngine.get_loc\u001b[1;34m()\u001b[0m\n",
      "\u001b[1;32mpandas/_libs/index.pyx\u001b[0m in \u001b[0;36mpandas._libs.index.IndexEngine.get_loc\u001b[1;34m()\u001b[0m\n",
      "\u001b[1;31mTypeError\u001b[0m: '(slice(None, None, None), 0)' is an invalid key"
     ]
    }
   ],
   "source": [
    "l  = mglearn.discrete_scatter(X[:,0], X[:,1], p2)"
   ]
  },
  {
   "cell_type": "code",
   "execution_count": 186,
   "metadata": {},
   "outputs": [],
   "source": [
    "# DBSCAN\n",
    "from sklearn.cluster import DBSCAN"
   ]
  },
  {
   "cell_type": "code",
   "execution_count": null,
   "metadata": {},
   "outputs": [],
   "source": [
    "p3 = DBSCAN(eps=1.5, min_samples=5).fit_predict(X) # k개를 정해주지 않습니다."
   ]
  },
  {
   "cell_type": "code",
   "execution_count": null,
   "metadata": {},
   "outputs": [],
   "source": [
    "l = mglearn.discrete_scatter(X[:,0], X[:,1], p3)"
   ]
  },
  {
   "cell_type": "code",
   "execution_count": null,
   "metadata": {},
   "outputs": [],
   "source": []
  }
 ],
 "metadata": {
  "kernelspec": {
   "display_name": "Python 3",
   "language": "python",
   "name": "python3"
  },
  "language_info": {
   "codemirror_mode": {
    "name": "ipython",
    "version": 3
   },
   "file_extension": ".py",
   "mimetype": "text/x-python",
   "name": "python",
   "nbconvert_exporter": "python",
   "pygments_lexer": "ipython3",
   "version": "3.7.3"
  }
 },
 "nbformat": 4,
 "nbformat_minor": 2
}
