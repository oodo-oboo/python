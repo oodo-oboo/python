{
 "cells": [
  {
   "cell_type": "code",
   "execution_count": null,
   "metadata": {},
   "outputs": [],
   "source": []
  },
  {
   "cell_type": "markdown",
   "metadata": {},
   "source": [
    "i마크다운 셀 M, 코드 셀 Y"
   ]
  },
  {
   "cell_type": "code",
   "execution_count": 3,
   "metadata": {},
   "outputs": [],
   "source": [
    "import random\n",
    "class Lotto: \n",
    "    ''' \n",
    "    1~45개 숫자 중 5개를 맞추는 게임 :\n",
    "    '''\n",
    "    def __init__(self): # 함수의 첫번째 인자로 self 를 넣어줍니다 JAVA의 this에 해당\n",
    "        print(\"로또 정답 생성자\")\n",
    "        self.target = [ ] #self를 붙이면 클래스 변수가 됩니다.\n",
    "        for i in range(5):\n",
    "            v = random.randint(1,45) #중복 번호가 나오면 다시 뽑기를 구현해 주세요            \n",
    "            while(v in self.target):#기존에 있는 번호를 뽑은거면\n",
    "                v = random.randint(1,45) #다시 뽑자\n",
    "            self.target.append(v)\n",
    "        print(self.target)\n",
    "        \n",
    "    def select(self, nums):\n",
    "        print('정답',self.target, '예측',nums) \n",
    "        k = 0\n",
    "        for i in range(5):\n",
    "            if nums[i] in self.target:#내가 뽑은 번호가 정답이면\n",
    "                k += 1 # 파이썬은 ++, -- 증감연산자가 없습니다.\n",
    "        if k==5:\n",
    "            print('1등 당첨되셨습니다')\n",
    "        elif k > 1:\n",
    "            print('축하합니다', k, '개 맞췄습니다')\n",
    "        else:\n",
    "            print(\"꽝입니다 하나도 못맞췄습니다\")"
   ]
  },
  {
   "cell_type": "code",
   "execution_count": 1,
   "metadata": {},
   "outputs": [
    {
     "data": {
      "text/plain": [
       "(1, 2, 3, 'a', 'bb')"
      ]
     },
     "execution_count": 1,
     "metadata": {},
     "output_type": "execute_result"
    }
   ],
   "source": [
    "# 튜플 (요소, 요소, ......) 특징 : 수정 불가능\n",
    "# 용도 : 함수의 리턴이 복수개일 때 \n",
    "t = (1,2,3, 'a', 'bb')\n",
    "t"
   ]
  },
  {
   "cell_type": "code",
   "execution_count": 2,
   "metadata": {},
   "outputs": [
    {
     "data": {
      "text/plain": [
       "1"
      ]
     },
     "execution_count": 2,
     "metadata": {},
     "output_type": "execute_result"
    }
   ],
   "source": [
    "t.count(1)"
   ]
  },
  {
   "cell_type": "code",
   "execution_count": 3,
   "metadata": {},
   "outputs": [
    {
     "data": {
      "text/plain": [
       "1"
      ]
     },
     "execution_count": 3,
     "metadata": {},
     "output_type": "execute_result"
    }
   ],
   "source": [
    "t.count('a') # 'a' 가 몇개가 있는가"
   ]
  },
  {
   "cell_type": "code",
   "execution_count": 4,
   "metadata": {},
   "outputs": [
    {
     "data": {
      "text/plain": [
       "3"
      ]
     },
     "execution_count": 4,
     "metadata": {},
     "output_type": "execute_result"
    }
   ],
   "source": [
    "t.index('a') # 'a' 가 어디에 "
   ]
  },
  {
   "cell_type": "code",
   "execution_count": 5,
   "metadata": {},
   "outputs": [
    {
     "data": {
      "text/plain": [
       "{1, 2, 3, 'a', 'bb'}"
      ]
     },
     "execution_count": 5,
     "metadata": {},
     "output_type": "execute_result"
    }
   ],
   "source": [
    "s = set(t) #  t를 set으로 변환해라 , set 은 {} 로 표현된다.\n",
    "s"
   ]
  },
  {
   "cell_type": "code",
   "execution_count": 6,
   "metadata": {},
   "outputs": [
    {
     "data": {
      "text/plain": [
       "[1, 2, 3, 'bb', 'a']"
      ]
     },
     "execution_count": 6,
     "metadata": {},
     "output_type": "execute_result"
    }
   ],
   "source": [
    "l = list(s) # list 로 변환해라, list 는 [] 로 표현된다.\n",
    "l"
   ]
  },
  {
   "cell_type": "code",
   "execution_count": 7,
   "metadata": {},
   "outputs": [
    {
     "data": {
      "text/plain": [
       "([1, 2, 3, 'a', 'bb'], {1, 2, 3, 'a', 'bb'}, (1, 2, 3, 'a', 'bb'))"
      ]
     },
     "execution_count": 7,
     "metadata": {},
     "output_type": "execute_result"
    }
   ],
   "source": [
    "list(t), set(t), tuple(t) # 타입 변환이 매우 쉽습니다."
   ]
  },
  {
   "cell_type": "code",
   "execution_count": 25,
   "metadata": {},
   "outputs": [],
   "source": [
    "# 함수 만들기, 함수명은 소문자_소문자\n",
    "def add_3(a,b = 10,c = 1):\n",
    "    '''\n",
    "    문서화 : 이 함수는 값 3개를 더해서 리턴합니다\n",
    "    작성자 : lelele\n",
    "    '''\n",
    "    return a + b + c"
   ]
  },
  {
   "cell_type": "code",
   "execution_count": 14,
   "metadata": {},
   "outputs": [
    {
     "data": {
      "text/plain": [
       "(6, 6)"
      ]
     },
     "execution_count": 14,
     "metadata": {},
     "output_type": "execute_result"
    }
   ],
   "source": [
    "add_3(1,2,3), add_3(1,2,3) # 튜플로 "
   ]
  },
  {
   "cell_type": "code",
   "execution_count": 15,
   "metadata": {},
   "outputs": [
    {
     "data": {
      "text/plain": [
       "6"
      ]
     },
     "execution_count": 15,
     "metadata": {},
     "output_type": "execute_result"
    }
   ],
   "source": [
    "add_3(1,2,3)"
   ]
  },
  {
   "cell_type": "code",
   "execution_count": 16,
   "metadata": {},
   "outputs": [],
   "source": [
    "# return이 없는 함수\n",
    "import math\n",
    "def check_nan(x):\n",
    "    if math.isnan(x): # nan : not a number 숫자가 아니다. 0으로 나누거나 할때 발생\n",
    "        print(x,'는 nan입니다.')\n",
    "    else:\n",
    "        print(x,'는 숫자입니다.')"
   ]
  },
  {
   "cell_type": "code",
   "execution_count": 17,
   "metadata": {},
   "outputs": [
    {
     "name": "stdout",
     "output_type": "stream",
     "text": [
      "100 는 숫자입니다.\n"
     ]
    }
   ],
   "source": [
    "check_nan(100)"
   ]
  },
  {
   "cell_type": "code",
   "execution_count": 18,
   "metadata": {},
   "outputs": [
    {
     "name": "stdout",
     "output_type": "stream",
     "text": [
      "100 는 숫자입니다.\n",
      "None\n"
     ]
    }
   ],
   "source": [
    "out = check_nan(100)\n",
    "print(out) # 리턴이 없는 함수에게 리턴을 강제로 받으면 None이 리턴됩니다."
   ]
  },
  {
   "cell_type": "code",
   "execution_count": 19,
   "metadata": {},
   "outputs": [
    {
     "data": {
      "text/plain": [
       "(int, float, str)"
      ]
     },
     "execution_count": 19,
     "metadata": {},
     "output_type": "execute_result"
    }
   ],
   "source": [
    "type(3), type(3.14), type('aa')"
   ]
  },
  {
   "cell_type": "code",
   "execution_count": 22,
   "metadata": {},
   "outputs": [
    {
     "data": {
      "text/plain": [
       "array([6. , 7. , 8.6])"
      ]
     },
     "execution_count": 22,
     "metadata": {},
     "output_type": "execute_result"
    }
   ],
   "source": [
    "import numpy as np\n",
    "add_3(1,2,np.array([3,4,5.6]))"
   ]
  },
  {
   "cell_type": "code",
   "execution_count": 26,
   "metadata": {},
   "outputs": [
    {
     "data": {
      "text/plain": [
       "(111, 31)"
      ]
     },
     "execution_count": 26,
     "metadata": {},
     "output_type": "execute_result"
    }
   ],
   "source": [
    "add_3(a=100), add_3(a =10, b=20) # 가독성"
   ]
  },
  {
   "cell_type": "markdown",
   "metadata": {},
   "source": [
    "클래스를 정의해두고, 사용할 때는 인스턴스를 생성해서 클래스의 함수들을 사용합니다."
   ]
  },
  {
   "cell_type": "code",
   "execution_count": null,
   "metadata": {},
   "outputs": [],
   "source": [
    "import random\n",
    "class Lotto:\n",
    "    '''\n",
    "    45 개 전후의 숫자 중 6개를 맞추는 게임 : 1등 1~45의 숫자\n",
    "    '''\n",
    "    def __init__(self): # 함수의 첫번째 인자로 self  를 넣어줍니다. JAVA의 this에 해당\n",
    "        print('로또 정답 생성자')\n",
    "        self.target = [] # 정답 list, self 를 붙이면 클래스 변수가 됩니다.\n",
    "        for i in range(5):\n",
    "            v =  random.randint(1,45) #중복 번호가 나오면 다시 뽑기를 구현해 주세요\n",
    "            while(not(v in self.target)): # 기존에 있는 번호를 뽑은거면\n",
    "                v =  random.randint(1,45) # 다시 뽑자\n",
    "            self.target.append(v)\n",
    "        print(self.target)\n",
    "        \n",
    "    def select(self, nums):\n",
    "        print('정답', self.target, '예측', nums)\n",
    "        k = 0\n",
    "        for i in range(5):\n",
    "            if nums[i] in self.target: # 내가 뽑은 번호가 정답이면\n",
    "                k += 1 # 파이썬은 ++, -- 증감연산자가 없다\n",
    "        if k== 5:\n",
    "            print('1등 당첨되셨습니다.')\n",
    "        elif k > 1 :\n",
    "            print('축하합니다.', k, '개 맞췄습니다.')\n",
    "        else:\n",
    "            print('꽝입니다. 하나도 못맞췄습니다.')"
   ]
  },
  {
   "cell_type": "code",
   "execution_count": null,
   "metadata": {},
   "outputs": [],
   "source": [
    "# 객체(인스턴스) 생성방벙 : 클래스이름()\n",
    "lotto1 = Lotto()\n",
    "lotto2 = Lotto()\n",
    "lotto1, lotto2"
   ]
  },
  {
   "cell_type": "code",
   "execution_count": 12,
   "metadata": {},
   "outputs": [
    {
     "name": "stdout",
     "output_type": "stream",
     "text": [
      "정답 [24, 1, 36, 22, 3] 예측 [1, 2, 3, 4, 5]\n",
      "축하합니다 2 개 맞췄습니다\n"
     ]
    }
   ],
   "source": [
    "# 게임 참여, 숫자를 5개 선택하면 축하합니다. x 개 맞췄습니다. 꽝입니다.\n",
    "lotto1.select([1,2,3,4,5])"
   ]
  },
  {
   "cell_type": "code",
   "execution_count": 33,
   "metadata": {},
   "outputs": [
    {
     "data": {
      "text/plain": [
       "(True, False)"
      ]
     },
     "execution_count": 33,
     "metadata": {},
     "output_type": "execute_result"
    }
   ],
   "source": [
    "# 중복체크/ 정답 맞춘것을 구현할때 사용하세요\n",
    "a = [1,2,3,4,5]\n",
    "3 in a, 10 in a"
   ]
  },
  {
   "cell_type": "code",
   "execution_count": 10,
   "metadata": {},
   "outputs": [
    {
     "name": "stdout",
     "output_type": "stream",
     "text": [
      "로또 정답 생성자\n",
      "[24, 1, 36, 22, 3]\n"
     ]
    }
   ],
   "source": [
    "lotto1 = Lotto()"
   ]
  },
  {
   "cell_type": "code",
   "execution_count": 11,
   "metadata": {},
   "outputs": [
    {
     "data": {
      "text/plain": [
       "<__main__.Lotto at 0x244354e4e80>"
      ]
     },
     "execution_count": 11,
     "metadata": {},
     "output_type": "execute_result"
    }
   ],
   "source": [
    "lotto1"
   ]
  },
  {
   "cell_type": "code",
   "execution_count": null,
   "metadata": {},
   "outputs": [],
   "source": [
    "lotto1 = Lotto()"
   ]
  }
 ],
 "metadata": {
  "kernelspec": {
   "display_name": "Python 3",
   "language": "python",
   "name": "python3"
  },
  "language_info": {
   "codemirror_mode": {
    "name": "ipython",
    "version": 3
   },
   "file_extension": ".py",
   "mimetype": "text/x-python",
   "name": "python",
   "nbconvert_exporter": "python",
   "pygments_lexer": "ipython3",
   "version": "3.7.3"
  }
 },
 "nbformat": 4,
 "nbformat_minor": 2
}
