{
 "cells": [
  {
   "cell_type": "markdown",
   "metadata": {},
   "source": [
    "unit8 인구 구조를 다양한 형태로 시각화하기"
   ]
  },
  {
   "cell_type": "code",
   "execution_count": 32,
   "metadata": {},
   "outputs": [],
   "source": [
    "import numpy as np\n",
    "import pandas as pd\n",
    "import matplotlib.pyplot as plt"
   ]
  },
  {
   "cell_type": "code",
   "execution_count": 2,
   "metadata": {},
   "outputs": [
    {
     "data": {
      "text/plain": [
       "<BarContainer object of 10 artists>"
      ]
     },
     "execution_count": 2,
     "metadata": {},
     "output_type": "execute_result"
    },
    {
     "data": {
      "image/png": "[encoded data removed]",
      "text/plain": [
       "<Figure size 360x72 with 1 Axes>"
      ]
     },
     "metadata": {
      "needs_background": "light"
     },
     "output_type": "display_data"
    }
   ],
   "source": [
    "# 막대 그래프 : (x,y)\n",
    "plt.figure(figsize=(5,1))\n",
    "plt.bar(np.arange(10), np.random.randint(1,10,size =10))"
   ]
  },
  {
   "cell_type": "code",
   "execution_count": 6,
   "metadata": {},
   "outputs": [
    {
     "data": {
      "text/plain": [
       "<matplotlib.legend.Legend at 0x1833ae7ecf8>"
      ]
     },
     "execution_count": 6,
     "metadata": {},
     "output_type": "execute_result"
    },
    {
     "data": {
      "image/png": "[encoded data removed]",
      "text/plain": [
       "<Figure size 360x72 with 1 Axes>"
      ]
     },
     "metadata": {
      "needs_background": "light"
     },
     "output_type": "display_data"
    }
   ],
   "source": [
    "plt.figure(figsize=(5,1))\n",
    "plt.barh(np.arange(10), np.random.randint(1,10,size =10), label = '1') # bar horizontal\n",
    "plt.barh(np.arange(10), -np.random.randint(1,10,size =10), label = '2')\n",
    "plt.legend()"
   ]
  },
  {
   "cell_type": "code",
   "execution_count": 59,
   "metadata": {},
   "outputs": [
    {
     "data": {
      "text/plain": [
       "(23, 207)"
      ]
     },
     "execution_count": 59,
     "metadata": {},
     "output_type": "execute_result"
    }
   ],
   "source": [
    "gf = pd.read_csv('gender.csv', encoding = 'cp949')\n",
    "\n",
    "gf = gf.replace(',', '', regex=True)\n",
    "gf = gf.dropna()\n",
    "gf.shape"
   ]
  },
  {
   "cell_type": "code",
   "execution_count": 36,
   "metadata": {},
   "outputs": [
    {
     "data": {
      "text/html": [
       "<div>\n",
       "<style scoped>\n",
       "    .dataframe tbody tr th:only-of-type {\n",
       "        vertical-align: middle;\n",
       "    }\n",
       "\n",
       "    .dataframe tbody tr th {\n",
       "        vertical-align: top;\n",
       "    }\n",
       "\n",
       "    .dataframe thead th {\n",
       "        text-align: right;\n",
       "    }\n",
       "</style>\n",
       "<table border=\"1\" class=\"dataframe\">\n",
       "  <thead>\n",
       "    <tr style=\"text-align: right;\">\n",
       "      <th></th>\n",
       "      <th>행정구역</th>\n",
       "      <th>2019년01월_남_총인구수</th>\n",
       "      <th>2019년01월_남_연령구간인구수</th>\n",
       "      <th>2019년01월_남_0세</th>\n",
       "      <th>2019년01월_남_1세</th>\n",
       "      <th>2019년01월_남_2세</th>\n",
       "      <th>2019년01월_남_3세</th>\n",
       "      <th>2019년01월_남_4세</th>\n",
       "      <th>2019년01월_남_5세</th>\n",
       "      <th>2019년01월_남_6세</th>\n",
       "      <th>...</th>\n",
       "      <th>2019년01월_여_91세</th>\n",
       "      <th>2019년01월_여_92세</th>\n",
       "      <th>2019년01월_여_93세</th>\n",
       "      <th>2019년01월_여_94세</th>\n",
       "      <th>2019년01월_여_95세</th>\n",
       "      <th>2019년01월_여_96세</th>\n",
       "      <th>2019년01월_여_97세</th>\n",
       "      <th>2019년01월_여_98세</th>\n",
       "      <th>2019년01월_여_99세</th>\n",
       "      <th>2019년01월_여_100세 이상</th>\n",
       "    </tr>\n",
       "  </thead>\n",
       "  <tbody>\n",
       "    <tr>\n",
       "      <th>0</th>\n",
       "      <td>서울특별시 강남구 (1168000000)</td>\n",
       "      <td>259,553</td>\n",
       "      <td>259,553</td>\n",
       "      <td>1,413</td>\n",
       "      <td>1,557</td>\n",
       "      <td>1,639</td>\n",
       "      <td>1,799</td>\n",
       "      <td>1,978</td>\n",
       "      <td>2,089</td>\n",
       "      <td>2,450</td>\n",
       "      <td>...</td>\n",
       "      <td>271</td>\n",
       "      <td>227</td>\n",
       "      <td>191</td>\n",
       "      <td>128</td>\n",
       "      <td>124</td>\n",
       "      <td>87</td>\n",
       "      <td>75</td>\n",
       "      <td>57</td>\n",
       "      <td>34</td>\n",
       "      <td>198</td>\n",
       "    </tr>\n",
       "  </tbody>\n",
       "</table>\n",
       "<p>1 rows × 207 columns</p>\n",
       "</div>"
      ],
      "text/plain": [
       "                     행정구역 2019년01월_남_총인구수 2019년01월_남_연령구간인구수 2019년01월_남_0세  \\\n",
       "0  서울특별시 강남구 (1168000000)         259,553            259,553         1,413   \n",
       "\n",
       "  2019년01월_남_1세 2019년01월_남_2세 2019년01월_남_3세 2019년01월_남_4세 2019년01월_남_5세  \\\n",
       "0         1,557         1,639         1,799         1,978         2,089   \n",
       "\n",
       "  2019년01월_남_6세  ... 2019년01월_여_91세 2019년01월_여_92세 2019년01월_여_93세  \\\n",
       "0         2,450  ...            271            227            191   \n",
       "\n",
       "  2019년01월_여_94세 2019년01월_여_95세 2019년01월_여_96세 2019년01월_여_97세 2019년01월_여_98세  \\\n",
       "0            128            124             87             75             57   \n",
       "\n",
       "  2019년01월_여_99세 2019년01월_여_100세 이상  \n",
       "0             34                198  \n",
       "\n",
       "[1 rows x 207 columns]"
      ]
     },
     "execution_count": 36,
     "metadata": {},
     "output_type": "execute_result"
    }
   ],
   "source": [
    "gf.head(n=1)"
   ]
  },
  {
   "cell_type": "markdown",
   "metadata": {},
   "source": [
    "- 특정 도시(강남구)의 여성과 남성의 나이별 인구수 대조\n",
    "- 컬럼 위치 찾기 : 남 0세 _남 90세, 여 0세 ~여 90세\n",
    "- 0세 : 10명, 1세 20명 도시에서 모두 누적 > 막대 그래프로 표현"
   ]
  },
  {
   "cell_type": "code",
   "execution_count": 37,
   "metadata": {},
   "outputs": [
    {
     "data": {
      "text/plain": [
       "Index(['행정구역', '2019년01월_남_총인구수', '2019년01월_남_연령구간인구수', '2019년01월_남_0세',\n",
       "       '2019년01월_남_1세', '2019년01월_남_2세', '2019년01월_남_3세', '2019년01월_남_4세',\n",
       "       '2019년01월_남_5세', '2019년01월_남_6세',\n",
       "       ...\n",
       "       '2019년01월_여_91세', '2019년01월_여_92세', '2019년01월_여_93세', '2019년01월_여_94세',\n",
       "       '2019년01월_여_95세', '2019년01월_여_96세', '2019년01월_여_97세', '2019년01월_여_98세',\n",
       "       '2019년01월_여_99세', '2019년01월_여_100세 이상'],\n",
       "      dtype='object', length=207)"
      ]
     },
     "execution_count": 37,
     "metadata": {},
     "output_type": "execute_result"
    }
   ],
   "source": [
    "gf.columns"
   ]
  },
  {
   "cell_type": "code",
   "execution_count": 54,
   "metadata": {},
   "outputs": [
    {
     "data": {
      "text/plain": [
       "('2019년01월_남_90세', '2019년01월_여_90세')"
      ]
     },
     "execution_count": 54,
     "metadata": {},
     "output_type": "execute_result"
    }
   ],
   "source": [
    "max_age = 90\n",
    "city = '서울특별시 강남'\n",
    "man_0 = '2019년01월_남_0세'\n",
    "woman_0 = '2019년01월_여_0세'\n",
    "#type(list(gf.columns))\n",
    "columns = list(gf.columns)\n",
    "man_0_index = list(gf.columns).index(man_0)\n",
    "woman_0_index = list(gf.columns).index(woman_0)\n",
    "man_0_index ,woman_0_index, \n",
    "columns[man_0_index + max_age], columns[woman_0_index + max_age]\n"
   ]
  },
  {
   "cell_type": "code",
   "execution_count": 39,
   "metadata": {},
   "outputs": [
    {
     "name": "stdout",
     "output_type": "stream",
     "text": [
      "0 서울특별시 강남구 (1168000000)\n",
      "1 서울특별시 강남구 신사동(1168051000)\n",
      "2 서울특별시 강남구 논현1동(1168052100)\n",
      "3 서울특별시 강남구 논현2동(1168053100)\n",
      "4 서울특별시 강남구 압구정동(1168054500)\n",
      "5 서울특별시 강남구 청담동(1168056500)\n",
      "6 서울특별시 강남구 삼성1동(1168058000)\n",
      "7 서울특별시 강남구 삼성2동(1168059000)\n",
      "8 서울특별시 강남구 대치1동(1168060000)\n",
      "9 서울특별시 강남구 대치2동(1168061000)\n",
      "10 서울특별시 강남구 대치4동(1168063000)\n",
      "11 서울특별시 강남구 역삼1동(1168064000)\n",
      "12 서울특별시 강남구 역삼2동(1168065000)\n",
      "13 서울특별시 강남구 도곡1동(1168065500)\n",
      "14 서울특별시 강남구 도곡2동(1168065600)\n",
      "15 서울특별시 강남구 개포1동(1168066000)\n",
      "16 서울특별시 강남구 개포2동(1168067000)\n",
      "17 서울특별시 강남구 개포4동(1168069000)\n",
      "18 서울특별시 강남구 세곡동(1168070000)\n",
      "19 서울특별시 강남구 일원본동(1168072000)\n",
      "20 서울특별시 강남구 일원1동(1168073000)\n",
      "21 서울특별시 강남구 일원2동(1168074000)\n",
      "22 서울특별시 강남구 수서동(1168075000)\n"
     ]
    }
   ],
   "source": [
    "data = np.array(gf)\n",
    "area = data[:, 0]\n",
    "# area[:3]\n",
    "city_row_index = -1\n",
    "for i in range(len(area)):\n",
    "    if city in area[i]:\n",
    "        print(i, area[i])\n",
    "        city_row_index = i"
   ]
  },
  {
   "cell_type": "code",
   "execution_count": 60,
   "metadata": {},
   "outputs": [
    {
     "data": {
      "text/plain": [
       "((90,), (90,))"
      ]
     },
     "execution_count": 60,
     "metadata": {},
     "output_type": "execute_result"
    }
   ],
   "source": [
    "city_data = data[city_row_index]\n",
    "city_man = city_data[man_0_index:man_0_index + max_age].astype(np.int)\n",
    "city_woman = city_data[woman_0_index:woman_0_index + max_age].astype(np.int)\n",
    "city_man.shape, city_woman.shape"
   ]
  },
  {
   "cell_type": "code",
   "execution_count": 61,
   "metadata": {},
   "outputs": [
    {
     "data": {
      "image/png": "[encoded data removed]",
      "text/plain": [
       "<Figure size 432x288 with 1 Axes>"
      ]
     },
     "metadata": {
      "needs_background": "light"
     },
     "output_type": "display_data"
    }
   ],
   "source": [
    "m = plt.barh(np.arange(len(city_man)), city_man, label = 'man')\n",
    "m = plt.barh(np.arange(len(city_woman)), -city_woman, label = 'woman')\n",
    "m = plt.legend()"
   ]
  },
  {
   "cell_type": "code",
   "execution_count": 62,
   "metadata": {},
   "outputs": [
    {
     "data": {
      "text/plain": [
       "(23, 207)"
      ]
     },
     "execution_count": 62,
     "metadata": {},
     "output_type": "execute_result"
    }
   ],
   "source": [
    "city = '서울'\n",
    "is_contain = []\n",
    "for i in range(len(area)):\n",
    "    is_contain.append(city in area[i])\n",
    "np.mean(is_contain)\n",
    "city_data = data[is_contain]\n",
    "city_data.shape"
   ]
  },
  {
   "cell_type": "code",
   "execution_count": 65,
   "metadata": {},
   "outputs": [],
   "source": [
    "city_man = city_data[:, man_0_index:man_0_index+max_age].astype(np.int)\n",
    "city_woman = city_data[woman_0_index:woman_0_index+max_age].astype(np.int)\n",
    "city_man.shape, city_woman.shape\n",
    "city_man = np.sum(city_man, axis=0)\n",
    "city_woman = np.sum(city_woman, axis=0)"
   ]
  },
  {
   "cell_type": "code",
   "execution_count": 77,
   "metadata": {},
   "outputs": [
    {
     "data": {
      "image/png": "[encoded data removed]",
      "text/plain": [
       "<Figure size 432x288 with 1 Axes>"
      ]
     },
     "metadata": {},
     "output_type": "display_data"
    }
   ],
   "source": [
    "plt.rc('font', family=\"Malgun Gothic\")\n",
    "color = ['pink', 'darkmagenta', 'deeppink']\n",
    "plt.title('Pie Graph')\n",
    "m = plt.pie([10,20,30], labels= ['A', 'b', 'C'], autopct='%.0f %%', colors=color, explode = (0, 0.2, 0))\n",
    "m = plt.legend()"
   ]
  },
  {
   "cell_type": "code",
   "execution_count": 120,
   "metadata": {},
   "outputs": [
    {
     "name": "stdout",
     "output_type": "stream",
     "text": [
      "1570 경기도 과천시 (4129000000)\n",
      "1571 경기도 과천시 중앙동(4129051000)\n",
      "1572 경기도 과천시 갈현동(4129052000)\n",
      "1573 경기도 과천시 별양동(4129053000)\n",
      "1574 경기도 과천시 부림동(4129054000)\n",
      "1575 경기도 과천시 과천동(4129055000)\n",
      "1576 경기도 과천시 문원동(4129056000)\n"
     ]
    }
   ],
   "source": [
    "df = pd.read_csv('gender_x.csv', encoding='cp949')\n",
    "df = df.replace(',', '', regex=True) \n",
    "df.shape\n",
    "\n",
    "max_age = 99\n",
    "man_0 = '2019년01월_남_0세'\n",
    "woman_0 = '2019년01월_여_0세'\n",
    "columns = list(df.columns)\n",
    "man_0_index = columns.index(man_0)\n",
    "woman_0_index = columns.index(woman_0)\n",
    "columns[man_0_index], columns[man_0_index + max_age]\n",
    "columns[woman_0_index],columns[woman_0_index + max_age]\n",
    "\n",
    "data = np.array(df)\n",
    "area = data[:, 0]\n",
    "city_row_index = -1\n",
    "for i in range(len(area)):\n",
    "    if city in area[i]:\n",
    "        print(i, area[i])\n",
    "        city_row_index = i"
   ]
  },
  {
   "cell_type": "code",
   "execution_count": 121,
   "metadata": {},
   "outputs": [
    {
     "data": {
      "text/plain": [
       "(7, 207)"
      ]
     },
     "execution_count": 121,
     "metadata": {},
     "output_type": "execute_result"
    }
   ],
   "source": [
    "city = '과천' # 이 글자가 들어간 행은 전부 찾자, 조건부 검색, 마스크(True만 뽑기)\n",
    "is_contain = []\n",
    "for i in range(len(area)):\n",
    "    is_contain.append(city in area[i])\n",
    "\n",
    "np.mean(is_contain)\n",
    "city_data = data[is_contain]\n",
    "city_data.shape\n"
   ]
  },
  {
   "cell_type": "code",
   "execution_count": 122,
   "metadata": {},
   "outputs": [],
   "source": [
    "city_man = city_data[:, man_0_index:man_0_index+max_age].astype(np.int)\n",
    "city_woman = city_data[:, woman_0_index:woman_0_index+max_age].astype(np.int)\n",
    "city_man.shape, city_woman.shape\n",
    "city_man = np.sum(city_man, axis=0)\n",
    "city_woman = np.sum(city_woman, axis=0)"
   ]
  },
  {
   "cell_type": "code",
   "execution_count": 123,
   "metadata": {},
   "outputs": [
    {
     "data": {
      "image/png": "[encoded data removed]",
      "text/plain": [
       "<Figure size 576x216 with 1 Axes>"
      ]
     },
     "metadata": {
      "needs_background": "light"
     },
     "output_type": "display_data"
    }
   ],
   "source": [
    "plt.figure(figsize=(8,3))\n",
    "m = plt.barh(np.arange(len(city_man)), city_man, label='man')\n",
    "m = plt.barh(np.arange(len(city_woman)), -city_woman, label='woman')\n",
    "m = plt.legend()"
   ]
  },
  {
   "cell_type": "code",
   "execution_count": 115,
   "metadata": {},
   "outputs": [],
   "source": [
    "city_man = np.sum(city_man, axis=0)\n",
    "city_woman = np.sum(city_woman, axis=0)"
   ]
  },
  {
   "cell_type": "code",
   "execution_count": 116,
   "metadata": {},
   "outputs": [
    {
     "data": {
      "image/png": "[encoded data removed]",
      "text/plain": [
       "<Figure size 432x288 with 1 Axes>"
      ]
     },
     "metadata": {},
     "output_type": "display_data"
    }
   ],
   "source": [
    "plt.rc('font', family=\"Malgun Gothic\")\n",
    "color = ['pink', 'skyblue']\n",
    "plt.title('Pie Graph')\n",
    "m = plt.pie([city_man,city_woman], labels= ['man', 'woman'], autopct='%.0f %%', colors=color, explode = (0, 0))\n",
    "m = plt.legend()"
   ]
  },
  {
   "cell_type": "code",
   "execution_count": 127,
   "metadata": {},
   "outputs": [
    {
     "data": {
      "image/png": "[encoded data removed]",
      "text/plain": [
       "<Figure size 360x36 with 1 Axes>"
      ]
     },
     "metadata": {
      "needs_background": "light"
     },
     "output_type": "display_data"
    }
   ],
   "source": [
    "plt.figure(figsize=(5, 0.5))\n",
    "m = plt.bar(np.arange(len(city_man)), city_man -city_woman)"
   ]
  },
  {
   "cell_type": "code",
   "execution_count": 134,
   "metadata": {},
   "outputs": [
    {
     "data": {
      "image/png": "[encoded data removed]",
      "text/plain": [
       "<Figure size 432x288 with 2 Axes>"
      ]
     },
     "metadata": {
      "needs_background": "light"
     },
     "output_type": "display_data"
    }
   ],
   "source": [
    "color=['red', 'green', 'black', 'blue']\n",
    "n = plt.scatter([1,2,3,4], [10,30,20,50], s = [10,20,30,40], c= range(4), cmap='jet')\n",
    "n = plt.colorbar()"
   ]
  },
  {
   "cell_type": "code",
   "execution_count": 138,
   "metadata": {},
   "outputs": [
    {
     "data": {
      "image/png": "[encoded data removed]",
      "text/plain": [
       "<Figure size 432x288 with 2 Axes>"
      ]
     },
     "metadata": {
      "needs_background": "light"
     },
     "output_type": "display_data"
    }
   ],
   "source": [
    "y = np.random.randint(0, 100, size= 100)\n",
    "n = plt.scatter(np.arange(len(y)), y, s=y ,c=range(len(y)), cmap= 'jet', alpha=0.5)\n",
    "n = plt.colorbar()"
   ]
  },
  {
   "cell_type": "markdown",
   "metadata": {},
   "source": [
    "<um> unordered list tag <ol> ordered list\n",
    "- plot(x) , plot(x, y)   선\n",
    "- hist (x)               히스토그램\n",
    "- boxplot(x)\n",
    "- bar (x, y), barh(x, y) 막대그래프\n",
    "- pie(x)\n",
    "- scatter(x, y)          산점도"
   ]
  },
  {
   "cell_type": "code",
   "execution_count": null,
   "metadata": {},
   "outputs": [],
   "source": []
  }
 ],
 "metadata": {
  "kernelspec": {
   "display_name": "Python 3",
   "language": "python",
   "name": "python3"
  },
  "language_info": {
   "codemirror_mode": {
    "name": "ipython",
    "version": 3
   },
   "file_extension": ".py",
   "mimetype": "text/x-python",
   "name": "python",
   "nbconvert_exporter": "python",
   "pygments_lexer": "ipython3",
   "version": "3.7.3"
  }
 },
 "nbformat": 4,
 "nbformat_minor": 2
}
