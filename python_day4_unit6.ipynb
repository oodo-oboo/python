{
 "cells": [
  {
   "cell_type": "markdown",
   "metadata": {},
   "source": [
    "유닛 6 기온 데이터를 다양하게 시각화 하기"
   ]
  },
  {
   "cell_type": "code",
   "execution_count": 2,
   "metadata": {},
   "outputs": [
    {
     "data": {
      "image/png": "[encoded data removed]",
      "text/plain": [
       "<Figure size 432x288 with 1 Axes>"
      ]
     },
     "metadata": {
      "needs_background": "light"
     },
     "output_type": "display_data"
    }
   ],
   "source": [
    "import matplotlib.pyplot as plt\n",
    "plt.hist([1,1,2,3,4,5,6,6,7,8,10])\n",
    "plt.show()"
   ]
  },
  {
   "cell_type": "code",
   "execution_count": null,
   "metadata": {},
   "outputs": [],
   "source": [
    "import matplotlib.pyplot as plt\n",
    "plt.hist([1,1,2,3,4,5,6,6,7,8,10])"
   ]
  },
  {
   "cell_type": "code",
   "execution_count": 3,
   "metadata": {},
   "outputs": [
    {
     "name": "stdout",
     "output_type": "stream",
     "text": [
      "2\n"
     ]
    }
   ],
   "source": [
    "import random\n",
    "print(random.randint(1,6))"
   ]
  },
  {
   "cell_type": "code",
   "execution_count": 11,
   "metadata": {},
   "outputs": [
    {
     "data": {
      "text/plain": [
       "(array([175., 167., 159., 181., 147., 171.]),\n",
       " array([1.        , 1.83333333, 2.66666667, 3.5       , 4.33333333,\n",
       "        5.16666667, 6.        ]),\n",
       " <a list of 6 Patch objects>)"
      ]
     },
     "execution_count": 11,
     "metadata": {},
     "output_type": "execute_result"
    },
    {
     "data": {
      "image/png": "[encoded data removed]",
      "text/plain": [
       "<Figure size 432x288 with 1 Axes>"
      ]
     },
     "metadata": {
      "needs_background": "light"
     },
     "output_type": "display_data"
    }
   ],
   "source": [
    "# 천번의 주사위 던지기 기록을 생성합니다.\n",
    "import numpy as np\n",
    "x = np.random.randint(low=1, high = 7, size = (1000))\n",
    "\n",
    "# 6개의 막대로 표현하기\n",
    "plt.hist(x , bins =6)"
   ]
  },
  {
   "cell_type": "code",
   "execution_count": 8,
   "metadata": {},
   "outputs": [
    {
     "name": "stdout",
     "output_type": "stream",
     "text": [
      "[5, 3, 5, 6, 3, 3, 4, 3, 4, 4, 1, 4, 3, 3, 2, 6, 2, 5, 6, 4, 6, 6, 3, 4, 5, 3, 2, 6, 2, 2, 4, 3, 2, 3, 3, 4, 1, 3, 1, 6, 4, 3, 3, 4, 6, 2, 2, 3, 4, 6, 6, 6, 5, 2, 4, 3, 3, 1, 2, 5, 4, 2, 1, 2, 2, 4, 3, 1, 5, 5, 2, 6, 1, 5, 4, 6, 5, 6, 3, 4, 6, 5, 5, 3, 5, 3, 3, 6, 1, 2, 5, 3, 4, 2, 3, 4, 2, 3, 6, 4]\n"
     ]
    },
    {
     "data": {
      "text/plain": [
       "(array([ 8., 17., 25., 19., 14., 17.]),\n",
       " array([1.        , 1.83333333, 2.66666667, 3.5       , 4.33333333,\n",
       "        5.16666667, 6.        ]),\n",
       " <a list of 6 Patch objects>)"
      ]
     },
     "execution_count": 8,
     "metadata": {},
     "output_type": "execute_result"
    },
    {
     "data": {
      "image/png": "[encoded data removed]",
      "text/plain": [
       "<Figure size 432x288 with 1 Axes>"
      ]
     },
     "metadata": {
      "needs_background": "light"
     },
     "output_type": "display_data"
    }
   ],
   "source": [
    "dice = []\n",
    "for i in range(100) :\n",
    "    dice.append(random.randint(1,6))\n",
    "print(dice)\n",
    "\n",
    "\n",
    "plt.hist(dice, bins=6)"
   ]
  },
  {
   "cell_type": "code",
   "execution_count": 22,
   "metadata": {},
   "outputs": [],
   "source": [
    "# 유닛 6-3 서울 기온 데이터를 히스토그램으로 표현하기\n",
    "import csv"
   ]
  },
  {
   "cell_type": "code",
   "execution_count": 62,
   "metadata": {},
   "outputs": [
    {
     "data": {
      "text/plain": [
       "<_io.TextIOWrapper name='seoul.csv' mode='r' encoding='cp949'>"
      ]
     },
     "execution_count": 62,
     "metadata": {},
     "output_type": "execute_result"
    }
   ],
   "source": [
    "f = open('seoul.csv')\n",
    "f"
   ]
  },
  {
   "cell_type": "code",
   "execution_count": 63,
   "metadata": {},
   "outputs": [
    {
     "data": {
      "text/plain": [
       "['날짜', '지점', '평균기온(℃)', '최저기온(℃)', '최고기온(℃)']"
      ]
     },
     "execution_count": 63,
     "metadata": {},
     "output_type": "execute_result"
    }
   ],
   "source": [
    "data = csv.reader(f)\n",
    "next(data)"
   ]
  },
  {
   "cell_type": "code",
   "execution_count": 50,
   "metadata": {},
   "outputs": [],
   "source": [
    "result = [] # 비어있는 리스트를 준비\n",
    "# 누락된 기온 ''\n",
    "for row in data: #한줄 한줄 꺼낸다\n",
    "    if row[-1] != '': # 누락되어 있지 않으면\n",
    "        if row[0].split('-')[1] == '08':# 8월이냐\n",
    "            result.append(float(row[-1])) # 최고기온을 실수로 변환하여 저장"
   ]
  },
  {
   "cell_type": "code",
   "execution_count": 51,
   "metadata": {},
   "outputs": [
    {
     "data": {
      "image/png": "[encoded data removed]",
      "text/plain": [
       "<Figure size 432x288 with 1 Axes>"
      ]
     },
     "metadata": {
      "needs_background": "light"
     },
     "output_type": "display_data"
    }
   ],
   "source": [
    "#plt.figure(figsize =(3,1,2))\n",
    "n = plt.hist(result, bins=100, color= 'r')"
   ]
  },
  {
   "cell_type": "markdown",
   "metadata": {},
   "source": [
    "- 지난 100년간 6월 19일의 최고기온의 히스토그램을 그리세요\n",
    "- p85~86 처름 8월과 1월의 최고기온 히스토그램을 동시에 그리세요"
   ]
  },
  {
   "cell_type": "code",
   "execution_count": 68,
   "metadata": {},
   "outputs": [
    {
     "data": {
      "image/png": "[encoded data removed]",
      "text/plain": [
       "<Figure size 432x288 with 1 Axes>"
      ]
     },
     "metadata": {
      "needs_background": "light"
     },
     "output_type": "display_data"
    }
   ],
   "source": [
    "f = open('seoul.csv')\n",
    "data = csv.reader(f)\n",
    "next(data)\n",
    "\n",
    "date = []\n",
    "max_temp = []\n",
    "\n",
    "for row in data:\n",
    "    date = row[0].split('-')[1:]\n",
    "    #print(date)\n",
    "    if row[-1] != '':\n",
    "        if date == ['06','19']:\n",
    "            max_temp.append(float(row[-1]))\n",
    "\n",
    "plt.hist(max_temp, bins = 100, color ='g')\n",
    "plt.show()"
   ]
  },
  {
   "cell_type": "code",
   "execution_count": 59,
   "metadata": {},
   "outputs": [
    {
     "data": {
      "image/png": "[encoded data removed]",
      "text/plain": [
       "<Figure size 432x288 with 1 Axes>"
      ]
     },
     "metadata": {
      "needs_background": "light"
     },
     "output_type": "display_data"
    }
   ],
   "source": [
    "f = open('seoul.csv')\n",
    "data = csv.reader(f)\n",
    "next(data)\n",
    "\n",
    "aug = []\n",
    "jan = []\n",
    "\n",
    "for row in data:\n",
    "    month = row[0].split('-')[1]\n",
    "    #print(date)\n",
    "    if row[-1] != '':\n",
    "        if month == '08':\n",
    "            aug.append(float(row[-1]))\n",
    "        if month == '01':\n",
    "            jan.append(float(row[-1]))\n",
    "            \n",
    "plt.hist(aug, bins = 100, color= 'r', label ='aug')\n",
    "plt.hist(jan, bins = 100, color= 'b', label ='jan')\n",
    "plt.legend()\n",
    "plt.show()"
   ]
  },
  {
   "cell_type": "code",
   "execution_count": 64,
   "metadata": {},
   "outputs": [
    {
     "data": {
      "text/plain": [
       "40221"
      ]
     },
     "execution_count": 64,
     "metadata": {},
     "output_type": "execute_result"
    }
   ],
   "source": [
    "rows = []\n",
    "\n",
    "for row in data:\n",
    "    rows.append(row)\n",
    "len(rows)"
   ]
  },
  {
   "cell_type": "markdown",
   "metadata": {},
   "source": [
    "상자 그림 (box plot)"
   ]
  },
  {
   "cell_type": "code",
   "execution_count": 69,
   "metadata": {},
   "outputs": [
    {
     "name": "stdout",
     "output_type": "stream",
     "text": [
      "[90, 140, 284, 487, 519, 605, 665, 675, 687, 794, 820, 898, 911]\n"
     ]
    },
    {
     "data": {
      "image/png": "[encoded data removed]",
      "text/plain": [
       "<Figure size 432x288 with 1 Axes>"
      ]
     },
     "metadata": {
      "needs_background": "light"
     },
     "output_type": "display_data"
    }
   ],
   "source": [
    "result = []\n",
    "\n",
    "for i in range(13):\n",
    "    result.append(random.randint(1,1000))\n",
    "print(sorted(result))\n",
    "\n",
    "plt.boxplot(result)\n",
    "plt.show()"
   ]
  },
  {
   "cell_type": "code",
   "execution_count": 72,
   "metadata": {},
   "outputs": [
    {
     "data": {
      "text/plain": [
       "(8.3, 7.0)"
      ]
     },
     "execution_count": 72,
     "metadata": {},
     "output_type": "execute_result"
    }
   ],
   "source": [
    "x = np.array ([1,2,3,4,10,11,12,20, -10, 30])\n",
    "np.mean(x), np.median(x)"
   ]
  },
  {
   "cell_type": "code",
   "execution_count": 73,
   "metadata": {},
   "outputs": [
    {
     "data": {
      "image/png": "[encoded data removed]",
      "text/plain": [
       "<Figure size 432x288 with 1 Axes>"
      ]
     },
     "metadata": {
      "needs_background": "light"
     },
     "output_type": "display_data"
    }
   ],
   "source": [
    "n = plt.boxplot(x) # 데이터를 정규분포로 표현했을때 그 범위를 벗어나면 이상"
   ]
  },
  {
   "cell_type": "code",
   "execution_count": 79,
   "metadata": {},
   "outputs": [
    {
     "data": {
      "image/png": "[encoded data removed]",
      "text/plain": [
       "<Figure size 432x288 with 1 Axes>"
      ]
     },
     "metadata": {
      "needs_background": "light"
     },
     "output_type": "display_data"
    }
   ],
   "source": [
    "f = open('seoul.csv')\n",
    "data = csv.reader(f)\n",
    "next(data)\n",
    "\n",
    "aug = []\n",
    "jan = []\n",
    "\n",
    "for row in data:\n",
    "    month = row[0].split('-')[1]\n",
    "    #print(date)\n",
    "    if row[-1] != '':\n",
    "        if month == '08':\n",
    "            aug.append(float(row[-1]))\n",
    "        if month == '01':\n",
    "            jan.append(float(row[-1]))\n",
    "            \n",
    "plt.boxplot(aug)\n",
    "plt.boxplot(jan)\n",
    "plt.show()"
   ]
  },
  {
   "cell_type": "code",
   "execution_count": 80,
   "metadata": {},
   "outputs": [
    {
     "data": {
      "image/png": "[encoded data removed]",
      "text/plain": [
       "<Figure size 432x288 with 1 Axes>"
      ]
     },
     "metadata": {
      "needs_background": "light"
     },
     "output_type": "display_data"
    }
   ],
   "source": [
    "f = open('seoul.csv')\n",
    "data = csv.reader(f)\n",
    "next(data)\n",
    "\n",
    "aug = []\n",
    "jan = []\n",
    "\n",
    "for row in data:\n",
    "    month = row[0].split('-')[1]\n",
    "    #print(date)\n",
    "    if row[-1] != '':\n",
    "        if month == '08':\n",
    "            aug.append(float(row[-1]))\n",
    "        if month == '01':\n",
    "            jan.append(float(row[-1]))\n",
    "            \n",
    "plt.boxplot([aug, jan])\n",
    "plt.show()"
   ]
  },
  {
   "cell_type": "code",
   "execution_count": 100,
   "metadata": {},
   "outputs": [],
   "source": [
    "import pandas as pd\n",
    "data = pd.read_csv('seoul.csv', encoding = 'cp949')\n",
    "# 상위 5\n",
    "data.head()\n",
    "data = data.dropna() # 전처리: 누락된 값이 있으면 그행은 버린"
   ]
  },
  {
   "cell_type": "code",
   "execution_count": 101,
   "metadata": {},
   "outputs": [
    {
     "data": {
      "text/plain": [
       "((39463, 5), array(['1907-10-01', 108, 13.5, 7.9, 20.7], dtype=object))"
      ]
     },
     "execution_count": 101,
     "metadata": {},
     "output_type": "execute_result"
    }
   ],
   "source": [
    "month = []\n",
    "for i in range(12):\n",
    "    month.append([])\n",
    "x = np.array(data)\n",
    "x.shape, x[0]"
   ]
  },
  {
   "cell_type": "code",
   "execution_count": 102,
   "metadata": {},
   "outputs": [
    {
     "data": {
      "text/plain": [
       "659666.7999999914"
      ]
     },
     "execution_count": 102,
     "metadata": {},
     "output_type": "execute_result"
    }
   ],
   "source": [
    "sum(x[:, -1])"
   ]
  },
  {
   "cell_type": "code",
   "execution_count": 103,
   "metadata": {},
   "outputs": [
    {
     "data": {
      "text/plain": [
       "16.716083419912106"
      ]
     },
     "execution_count": 103,
     "metadata": {},
     "output_type": "execute_result"
    }
   ],
   "source": [
    "np.mean(x[:,-1])"
   ]
  },
  {
   "cell_type": "code",
   "execution_count": 105,
   "metadata": {},
   "outputs": [
    {
     "data": {
      "image/png": "[encoded data removed]",
      "text/plain": [
       "<Figure size 360x79.2 with 1 Axes>"
      ]
     },
     "metadata": {
      "needs_background": "light"
     },
     "output_type": "display_data"
    }
   ],
   "source": [
    "# 탐색적 프로그래밍\n",
    "for i in range(len(x)):\n",
    "    row = x[i]\n",
    "    date = row[0]\n",
    "    high = row[-1]\n",
    "    mon = date.split('-')[1]\n",
    "    # 1월은 0번째 치에 저장해야 하므로\n",
    "    month[int(mon)-1].append(high)\n",
    "  #  print(date.split('-')[1], mon, high)\n",
    "\n",
    "    \n",
    "plt.figure(figsize=(5,1.1))\n",
    "m = plt.boxplot(month)"
   ]
  },
  {
   "cell_type": "code",
   "execution_count": null,
   "metadata": {},
   "outputs": [],
   "source": []
  }
 ],
 "metadata": {
  "kernelspec": {
   "display_name": "Python 3",
   "language": "python",
   "name": "python3"
  },
  "language_info": {
   "codemirror_mode": {
    "name": "ipython",
    "version": 3
   },
   "file_extension": ".py",
   "mimetype": "text/x-python",
   "name": "python",
   "nbconvert_exporter": "python",
   "pygments_lexer": "ipython3",
   "version": "3.7.3"
  }
 },
 "nbformat": 4,
 "nbformat_minor": 2
}
