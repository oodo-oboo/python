{
 "cells": [
  {
   "cell_type": "markdown",
   "metadata": {},
   "source": [
    "# 서울 지하철 유/무임 승차 데이터\n",
    "\n",
    "T-money 제공"
   ]
  },
  {
   "cell_type": "markdown",
   "metadata": {},
   "source": [
    "#####   문제 1 유임 승차 비율이 가장 높은 역은 어디일까?"
   ]
  },
  {
   "cell_type": "code",
   "execution_count": 25,
   "metadata": {},
   "outputs": [],
   "source": [
    "import numpy as np\n",
    "import pandas as pd\n",
    "import matplotlib.pyplot as plt"
   ]
  },
  {
   "cell_type": "code",
   "execution_count": 26,
   "metadata": {},
   "outputs": [
    {
     "data": {
      "text/plain": [
       "(597, 9)"
      ]
     },
     "execution_count": 26,
     "metadata": {},
     "output_type": "execute_result"
    }
   ],
   "source": [
    "df = pd.read_csv ('subwayfee.csv', encoding = 'cp949')\n",
    "df.shape"
   ]
  },
  {
   "cell_type": "code",
   "execution_count": 41,
   "metadata": {},
   "outputs": [],
   "source": [
    "df = df.replace(',', '', regex=True)\n",
    "df = df.dropna() # 누락값이 있는 행은 버린다"
   ]
  },
  {
   "cell_type": "code",
   "execution_count": 42,
   "metadata": {},
   "outputs": [
    {
     "data": {
      "text/html": [
       "<div>\n",
       "<style scoped>\n",
       "    .dataframe tbody tr th:only-of-type {\n",
       "        vertical-align: middle;\n",
       "    }\n",
       "\n",
       "    .dataframe tbody tr th {\n",
       "        vertical-align: top;\n",
       "    }\n",
       "\n",
       "    .dataframe thead th {\n",
       "        text-align: right;\n",
       "    }\n",
       "</style>\n",
       "<table border=\"1\" class=\"dataframe\">\n",
       "  <thead>\n",
       "    <tr style=\"text-align: right;\">\n",
       "      <th></th>\n",
       "      <th>사용월</th>\n",
       "      <th>호선명</th>\n",
       "      <th>역ID</th>\n",
       "      <th>지하철역</th>\n",
       "      <th>유임승차</th>\n",
       "      <th>유임하차</th>\n",
       "      <th>무임승차</th>\n",
       "      <th>무임하차</th>\n",
       "      <th>작업일시</th>\n",
       "    </tr>\n",
       "  </thead>\n",
       "  <tbody>\n",
       "    <tr>\n",
       "      <th>0</th>\n",
       "      <td>2019-05</td>\n",
       "      <td>1호선</td>\n",
       "      <td>150</td>\n",
       "      <td>서울역</td>\n",
       "      <td>1568570</td>\n",
       "      <td>1489737</td>\n",
       "      <td>247801</td>\n",
       "      <td>242107</td>\n",
       "      <td>2019-06-03 10:56:20</td>\n",
       "    </tr>\n",
       "    <tr>\n",
       "      <th>1</th>\n",
       "      <td>2019-05</td>\n",
       "      <td>1호선</td>\n",
       "      <td>151</td>\n",
       "      <td>시청</td>\n",
       "      <td>709821</td>\n",
       "      <td>727110</td>\n",
       "      <td>112279</td>\n",
       "      <td>112016</td>\n",
       "      <td>2019-06-03 10:56:20</td>\n",
       "    </tr>\n",
       "    <tr>\n",
       "      <th>2</th>\n",
       "      <td>2019-05</td>\n",
       "      <td>1호선</td>\n",
       "      <td>152</td>\n",
       "      <td>종각</td>\n",
       "      <td>1204910</td>\n",
       "      <td>1151371</td>\n",
       "      <td>176083</td>\n",
       "      <td>164915</td>\n",
       "      <td>2019-06-03 10:56:20</td>\n",
       "    </tr>\n",
       "    <tr>\n",
       "      <th>3</th>\n",
       "      <td>2019-05</td>\n",
       "      <td>1호선</td>\n",
       "      <td>153</td>\n",
       "      <td>종로3가</td>\n",
       "      <td>699000</td>\n",
       "      <td>647664</td>\n",
       "      <td>408682</td>\n",
       "      <td>382809</td>\n",
       "      <td>2019-06-03 10:56:20</td>\n",
       "    </tr>\n",
       "    <tr>\n",
       "      <th>4</th>\n",
       "      <td>2019-05</td>\n",
       "      <td>1호선</td>\n",
       "      <td>154</td>\n",
       "      <td>종로5가</td>\n",
       "      <td>561662</td>\n",
       "      <td>578374</td>\n",
       "      <td>307515</td>\n",
       "      <td>295535</td>\n",
       "      <td>2019-06-03 10:56:20</td>\n",
       "    </tr>\n",
       "  </tbody>\n",
       "</table>\n",
       "</div>"
      ],
      "text/plain": [
       "       사용월  호선명  역ID  지하철역     유임승차     유임하차    무임승차    무임하차  \\\n",
       "0  2019-05  1호선  150   서울역  1568570  1489737  247801  242107   \n",
       "1  2019-05  1호선  151    시청   709821   727110  112279  112016   \n",
       "2  2019-05  1호선  152    종각  1204910  1151371  176083  164915   \n",
       "3  2019-05  1호선  153  종로3가   699000   647664  408682  382809   \n",
       "4  2019-05  1호선  154  종로5가   561662   578374  307515  295535   \n",
       "\n",
       "                  작업일시  \n",
       "0  2019-06-03 10:56:20  \n",
       "1  2019-06-03 10:56:20  \n",
       "2  2019-06-03 10:56:20  \n",
       "3  2019-06-03 10:56:20  \n",
       "4  2019-06-03 10:56:20  "
      ]
     },
     "execution_count": 42,
     "metadata": {},
     "output_type": "execute_result"
    }
   ],
   "source": [
    "df.head()"
   ]
  },
  {
   "cell_type": "code",
   "execution_count": 43,
   "metadata": {},
   "outputs": [
    {
     "data": {
      "text/plain": [
       "((597, 9), array(['2019-05', '1호선', 150, '서울역', '1568570', '1489737', '247801',\n",
       "        '242107', '2019-06-03 10:56:20'], dtype=object))"
      ]
     },
     "execution_count": 43,
     "metadata": {},
     "output_type": "execute_result"
    }
   ],
   "source": [
    "arr = np.array(df) #배열로 변\n",
    "arr.shape, arr[0]"
   ]
  },
  {
   "cell_type": "code",
   "execution_count": 50,
   "metadata": {},
   "outputs": [
    {
     "data": {
      "text/plain": [
       "(array(['2호선', '강남'], dtype=object), 2894341, 31)"
      ]
     },
     "execution_count": 50,
     "metadata": {},
     "output_type": "execute_result"
    }
   ],
   "source": [
    "유임승차 = (arr[:, 4]).astype(np.int)\n",
    "arr[np.argmax(유임승차), 1:4:2], np.max(유임승차), np.argmax(유임승차)"
   ]
  },
  {
   "cell_type": "markdown",
   "metadata": {},
   "source": [
    "유임 승차 비율이 가장 높은 곳은? 유임 승차인원/ 무임승차인원"
   ]
  },
  {
   "cell_type": "code",
   "execution_count": 51,
   "metadata": {},
   "outputs": [
    {
     "data": {
      "text/plain": [
       "(array(['분당선', '복정'], dtype=object), 24.0, 237)"
      ]
     },
     "execution_count": 51,
     "metadata": {},
     "output_type": "execute_result"
    }
   ],
   "source": [
    "무임승차 = (arr[:, 6]).astype(np.int)\n",
    "유임승차비율 = 유임승차/(무임승차+1)\n",
    "arr[np.argmax(유임승차비율), 1:4:2], np.max(유임승차비율), np.argmax(유임승차비율)"
   ]
  },
  {
   "cell_type": "markdown",
   "metadata": {},
   "source": [
    "유무임 승하차 인원이 가장 많은 역은 어디일까"
   ]
  },
  {
   "cell_type": "code",
   "execution_count": 55,
   "metadata": {},
   "outputs": [
    {
     "data": {
      "text/plain": [
       "(array(['2호선', '강남'], dtype=object), 6234453, 31)"
      ]
     },
     "execution_count": 55,
     "metadata": {},
     "output_type": "execute_result"
    }
   ],
   "source": [
    "전체승하차인원 = arr[:, 4:8].astype(np.int)\n",
    "역이용인원 = np.sum(전체승하차인원, axis=1)\n",
    "arr[np.argmax(역이용인원), 1:4:2], np.max(역이용인원), np.argmax(역이용인원)"
   ]
  },
  {
   "cell_type": "markdown",
   "metadata": {},
   "source": [
    "모든 역의 유무임 승하차 비율은 어떻게 될까 > 파이그래프 ( 유임승/하차, 무임승/하차)\n",
    "유임승차인원 :x, 유임하차인원 : x, 무임승차인원: x, 무임하차인원 : x"
   ]
  },
  {
   "cell_type": "code",
   "execution_count": 68,
   "metadata": {},
   "outputs": [
    {
     "data": {
      "image/png": "[encoded data removed]",
      "text/plain": [
       "<Figure size 432x288 with 1 Axes>"
      ]
     },
     "metadata": {},
     "output_type": "display_data"
    }
   ],
   "source": [
    "a = np.sum(arr[:,4:8].astype(np.int), axis =0)\n",
    "plt.rc('font', family=\"Malgun Gothic\")\n",
    "n = plt.pie(a, labels= (df.columns[4:8]), autopct='%.0f %%', explode= [0,0,0.1,0.1])\n",
    "plt.title('전체 지하철의 유무임 승차 비율')\n",
    "plt.savefig('all_subway_ratio.png')"
   ]
  },
  {
   "cell_type": "markdown",
   "metadata": {},
   "source": [
    "모든 역마다 유무임 승차 비율을 따로 파이 차트로 나타내기\n",
    "\n",
    "- 50만명 이상 승차하는 곳만"
   ]
  },
  {
   "cell_type": "code",
   "execution_count": 75,
   "metadata": {},
   "outputs": [
    {
     "name": "stdout",
     "output_type": "stream",
     "text": [
      "['2019-05' '1호선' 150 '서울역' '1568570' '1489737' '247801' '242107'\n",
      " '2019-06-03 10:56:20']\n",
      "['2019-05' '1호선' 152 '종각' '1204910' '1151371' '176083' '164915'\n",
      " '2019-06-03 10:56:20']\n",
      "['2019-05' '2호선' 202 '을지로입구' '1458984' '1462646' '122625' '113191'\n",
      " '2019-06-03 10:56:20']\n",
      "['2019-05' '2호선' 212 '건대입구' '1378810' '1494957' '105074' '109681'\n",
      " '2019-06-03 10:56:20']\n",
      "['2019-05' '2호선' 214 '강변(동서울터미널)' '1310416' '1289645' '160160' '155742'\n",
      " '2019-06-03 10:56:20']\n",
      "['2019-05' '2호선' 216 '잠실(송파구청)' '2539574' '2462479' '233044' '219947'\n",
      " '2019-06-03 10:56:20']\n",
      "['2019-05' '2호선' 219 '삼성(무역센터)' '1781824' '1842623' '134802' '127716'\n",
      " '2019-06-03 10:56:20']\n",
      "['2019-05' '2호선' 220 '선릉' '1460528' '1300444' '234778' '207100'\n",
      " '2019-06-03 10:56:20']\n",
      "['2019-05' '2호선' 221 '역삼' '1269095' '1438098' '174383' '177850'\n",
      " '2019-06-03 10:56:20']\n",
      "['2019-05' '2호선' 222 '강남' '2894341' '2974378' '192979' '172755'\n",
      " '2019-06-03 10:56:20']\n",
      "['2019-05' '2호선' 226 '사당' '1171893' '1316118' '229867' '219309'\n",
      " '2019-06-03 10:56:20']\n",
      "['2019-05' '2호선' 228 '서울대입구(관악구청)' '1509438' '1455697' '222610' '213945'\n",
      " '2019-06-03 10:56:20']\n",
      "['2019-05' '2호선' 230 '신림' '1996054' '1926203' '266618' '270264'\n",
      " '2019-06-03 10:56:20']\n",
      "['2019-05' '2호선' 232 '구로디지털단지' '1810723' '1808076' '194678' '197938'\n",
      " '2019-06-03 10:56:20']\n",
      "['2019-05' '2호선' 234 '신도림' '1646558' '1650521' '234895' '223466'\n",
      " '2019-06-03 10:56:20']\n",
      "['2019-05' '2호선' 239 '홍대입구' '2477631' '2672677' '122634' '119350'\n",
      " '2019-06-03 10:56:20']\n",
      "['2019-05' '2호선' 240 '신촌' '1391356' '1428011' '152993' '150842'\n",
      " '2019-06-03 10:56:20']\n",
      "['2019-05' '3호선' 311 '연신내' '1062242' '995545' '302867' '293167'\n",
      " '2019-06-03 10:56:20']\n",
      "['2019-05' '3호선' 329 '고속터미널' '1776023' '1683057' '210770' '201605'\n",
      " '2019-06-03 10:56:20']\n",
      "['2019-05' '3호선' 332 '양재(서초구청)' '1101532' '1200669' '182992' '185709'\n",
      " '2019-06-03 10:56:20']\n",
      "['2019-05' '4호선' 414 '수유(강북구청)' '1015680' '1001460' '229974' '229697'\n",
      " '2019-06-03 10:56:20']\n",
      "['2019-05' '4호선' 420 '혜화' '1224744' '1266988' '147378' '146826'\n",
      " '2019-06-03 10:56:20']\n",
      "['2019-05' '4호선' 424 '명동' '1141339' '1230794' '79951' '82312'\n",
      " '2019-06-03 10:56:20']\n",
      "['2019-05' '경부선' 1003 '용산' '1221877' '1257447' '147723' '148189'\n",
      " '2019-06-03 10:56:20']\n",
      "['2019-05' '경부선' 1006 '영등포' '1267511' '1337165' '307864' '307842'\n",
      " '2019-06-03 10:56:20']\n",
      "['2019-05' '경부선' 1713 '수원' '1432034' '1515339' '167727' '177313'\n",
      " '2019-06-03 10:56:20']\n",
      "['2019-05' '경인선' 1804 '부천' '1074037' '1085472' '234614' '238785'\n",
      " '2019-06-03 10:56:20']\n",
      "['2019-05' '경인선' 1806 '부평' '1063996' '1168961' '162125' '167872'\n",
      " '2019-06-03 10:56:20']\n",
      "['2019-05' '5호선' 2534 '광화문(세종문화회관)' '1004496' '1054996' '107144' '104065'\n",
      " '2019-06-03 10:56:20']\n",
      "['2019-05' '7호선' 2748 '가산디지털단지' '1169667' '1170038' '83075' '78382'\n",
      " '2019-06-03 10:56:20']\n"
     ]
    }
   ],
   "source": [
    "for i in range(len(arr)):\n",
    "    row = arr[i]\n",
    "    승하차인원 = row[4:8].astype(np.int)\n",
    "    유임승차 = 승하차인원[0]\n",
    "    if 유임승차 > 1000000:\n",
    "        print(row)\n",
    "        plt.rc('font', family=\"Malgun Gothic\")\n",
    "        n = plt.pie(row[4:8], labels= (df.columns[4:8]), autopct='%.1f', explode= [0,0,0.1,0.1])\n",
    "        역이름 = row[3]\n",
    "        plt.title(역이름 +'역의 유무임 승차 비율')\n",
    "        파일명 = 'subway_' + 역이름 + '.png'\n",
    "        plt.savefig(파일명)\n",
    "        plt.close()"
   ]
  },
  {
   "cell_type": "code",
   "execution_count": null,
   "metadata": {},
   "outputs": [],
   "source": []
  }
 ],
 "metadata": {
  "kernelspec": {
   "display_name": "Python 3",
   "language": "python",
   "name": "python3"
  },
  "language_info": {
   "codemirror_mode": {
    "name": "ipython",
    "version": 3
   },
   "file_extension": ".py",
   "mimetype": "text/x-python",
   "name": "python",
   "nbconvert_exporter": "python",
   "pygments_lexer": "ipython3",
   "version": "3.7.3"
  }
 },
 "nbformat": 4,
 "nbformat_minor": 2
}
